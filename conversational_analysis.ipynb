{
  "nbformat": 4,
  "nbformat_minor": 0,
  "metadata": {
    "colab": {
      "name": "conversational_analysis.ipynb",
      "provenance": [],
      "collapsed_sections": [],
      "include_colab_link": true
    },
    "kernelspec": {
      "name": "python3",
      "display_name": "Python 3"
    },
    "accelerator": "GPU"
  },
  "cells": [
    {
      "cell_type": "markdown",
      "metadata": {
        "id": "view-in-github",
        "colab_type": "text"
      },
      "source": [
        "<a href=\"https://colab.research.google.com/github/gabbyprecious/hng-conversationalAnalysisUsingGPT2/blob/master/conversational_analysis.ipynb\" target=\"_parent\"><img src=\"https://colab.research.google.com/assets/colab-badge.svg\" alt=\"Open In Colab\"/></a>"
      ]
    },
    {
      "cell_type": "code",
      "metadata": {
        "id": "DlM47CJiaR2d",
        "colab_type": "code",
        "outputId": "08bdd013-60d2-4a30-a463-c8f619e9dccb",
        "colab": {
          "base_uri": "https://localhost:8080/",
          "height": 125
        }
      },
      "source": [
        "from google.colab import drive\n",
        "\n",
        "drive.mount('/content/drive')"
      ],
      "execution_count": 0,
      "outputs": [
        {
          "output_type": "stream",
          "text": [
            "Go to this URL in a browser: https://accounts.google.com/o/oauth2/auth?client_id=947318989803-6bn6qk8qdgf4n4g3pfee6491hc0brc4i.apps.googleusercontent.com&redirect_uri=urn%3Aietf%3Awg%3Aoauth%3A2.0%3Aoob&scope=email%20https%3A%2F%2Fwww.googleapis.com%2Fauth%2Fdocs.test%20https%3A%2F%2Fwww.googleapis.com%2Fauth%2Fdrive%20https%3A%2F%2Fwww.googleapis.com%2Fauth%2Fdrive.photos.readonly%20https%3A%2F%2Fwww.googleapis.com%2Fauth%2Fpeopleapi.readonly&response_type=code\n",
            "\n",
            "Enter your authorization code:\n",
            "··········\n",
            "Mounted at /content/drive\n"
          ],
          "name": "stdout"
        }
      ]
    },
    {
      "cell_type": "code",
      "metadata": {
        "id": "gh-JFZCtZDzE",
        "colab_type": "code",
        "colab": {}
      },
      "source": [
        "#importing libraries\n",
        "import os\n",
        "import json\n",
        "import random\n",
        "import re\n",
        "import pandas as pd\n",
        "from numpy import int64"
      ],
      "execution_count": 0,
      "outputs": []
    },
    {
      "cell_type": "code",
      "metadata": {
        "id": "jwKXvVnnaOri",
        "colab_type": "code",
        "outputId": "4328ebe3-0f31-4746-806b-c08c84e2d1bf",
        "colab": {
          "base_uri": "https://localhost:8080/",
          "height": 105
        }
      },
      "source": [
        "#cloning git\n",
        "!git clone https://github.com/tenoke/gpt-2"
      ],
      "execution_count": 0,
      "outputs": [
        {
          "output_type": "stream",
          "text": [
            "Cloning into 'gpt-2'...\n",
            "remote: Enumerating objects: 244, done.\u001b[K\n",
            "remote: Total 244 (delta 0), reused 0 (delta 0), pack-reused 244\u001b[K\n",
            "Receiving objects: 100% (244/244), 4.39 MiB | 15.02 MiB/s, done.\n",
            "Resolving deltas: 100% (125/125), done.\n"
          ],
          "name": "stdout"
        }
      ]
    },
    {
      "cell_type": "code",
      "metadata": {
        "id": "pDviL4nBaPnn",
        "colab_type": "code",
        "outputId": "ca0dfb8f-a0e4-4218-94c5-7b4b8faa308a",
        "colab": {
          "base_uri": "https://localhost:8080/",
          "height": 34
        }
      },
      "source": [
        "cd gpt-2"
      ],
      "execution_count": 0,
      "outputs": [
        {
          "output_type": "stream",
          "text": [
            "/content/gpt-2\n"
          ],
          "name": "stdout"
        }
      ]
    },
    {
      "cell_type": "code",
      "metadata": {
        "id": "lTdeHxm_aQO8",
        "colab_type": "code",
        "outputId": "3c09f633-eef1-4498-ce56-28934260c089",
        "colab": {
          "base_uri": "https://localhost:8080/",
          "height": 675
        }
      },
      "source": [
        "#installing necessary requirements\n",
        "!pip3 install -r requirements.txt"
      ],
      "execution_count": 0,
      "outputs": [
        {
          "output_type": "stream",
          "text": [
            "Collecting fire>=0.1.3 (from -r requirements.txt (line 1))\n",
            "\u001b[?25l  Downloading https://files.pythonhosted.org/packages/d9/69/faeaae8687f4de0f5973694d02e9d6c3eb827636a009157352d98de1129e/fire-0.2.1.tar.gz (76kB)\n",
            "\r\u001b[K     |████▎                           | 10kB 15.1MB/s eta 0:00:01\r\u001b[K     |████████▋                       | 20kB 3.1MB/s eta 0:00:01\r\u001b[K     |████████████▉                   | 30kB 4.5MB/s eta 0:00:01\r\u001b[K     |█████████████████▏              | 40kB 2.9MB/s eta 0:00:01\r\u001b[K     |█████████████████████▍          | 51kB 3.6MB/s eta 0:00:01\r\u001b[K     |█████████████████████████▊      | 61kB 4.3MB/s eta 0:00:01\r\u001b[K     |██████████████████████████████  | 71kB 4.9MB/s eta 0:00:01\r\u001b[K     |████████████████████████████████| 81kB 5.1MB/s \n",
            "\u001b[?25hCollecting regex==2017.4.5 (from -r requirements.txt (line 2))\n",
            "\u001b[?25l  Downloading https://files.pythonhosted.org/packages/36/62/c0c0d762ffd4ffaf39f372eb8561b8d491a11ace5a7884610424a8b40f95/regex-2017.04.05.tar.gz (601kB)\n",
            "\u001b[K     |████████████████████████████████| 604kB 14.8MB/s \n",
            "\u001b[?25hRequirement already satisfied: requests==2.21.0 in /usr/local/lib/python3.6/dist-packages (from -r requirements.txt (line 3)) (2.21.0)\n",
            "Collecting tqdm==4.31.1 (from -r requirements.txt (line 4))\n",
            "\u001b[?25l  Downloading https://files.pythonhosted.org/packages/6c/4b/c38b5144cf167c4f52288517436ccafefe9dc01b8d1c190e18a6b154cd4a/tqdm-4.31.1-py2.py3-none-any.whl (48kB)\n",
            "\u001b[K     |████████████████████████████████| 51kB 14.8MB/s \n",
            "\u001b[?25hCollecting toposort==1.5 (from -r requirements.txt (line 5))\n",
            "  Downloading https://files.pythonhosted.org/packages/e9/8a/321cd8ea5f4a22a06e3ba30ef31ec33bea11a3443eeb1d89807640ee6ed4/toposort-1.5-py2.py3-none-any.whl\n",
            "Requirement already satisfied: six in /usr/local/lib/python3.6/dist-packages (from fire>=0.1.3->-r requirements.txt (line 1)) (1.12.0)\n",
            "Requirement already satisfied: termcolor in /usr/local/lib/python3.6/dist-packages (from fire>=0.1.3->-r requirements.txt (line 1)) (1.1.0)\n",
            "Requirement already satisfied: certifi>=2017.4.17 in /usr/local/lib/python3.6/dist-packages (from requests==2.21.0->-r requirements.txt (line 3)) (2019.9.11)\n",
            "Requirement already satisfied: idna<2.9,>=2.5 in /usr/local/lib/python3.6/dist-packages (from requests==2.21.0->-r requirements.txt (line 3)) (2.8)\n",
            "Requirement already satisfied: urllib3<1.25,>=1.21.1 in /usr/local/lib/python3.6/dist-packages (from requests==2.21.0->-r requirements.txt (line 3)) (1.24.3)\n",
            "Requirement already satisfied: chardet<3.1.0,>=3.0.2 in /usr/local/lib/python3.6/dist-packages (from requests==2.21.0->-r requirements.txt (line 3)) (3.0.4)\n",
            "Building wheels for collected packages: fire, regex\n",
            "  Building wheel for fire (setup.py) ... \u001b[?25l\u001b[?25hdone\n",
            "  Created wheel for fire: filename=fire-0.2.1-py2.py3-none-any.whl size=103527 sha256=179b8f205c8721d956ba023c5b73040ed2af84620be38a40efc4405a47f0b470\n",
            "  Stored in directory: /root/.cache/pip/wheels/31/9c/c0/07b6dc7faf1844bb4688f46b569efe6cafaa2179c95db821da\n",
            "  Building wheel for regex (setup.py) ... \u001b[?25l\u001b[?25hdone\n",
            "  Created wheel for regex: filename=regex-2017.4.5-cp36-cp36m-linux_x86_64.whl size=533168 sha256=d2fec77596b4f6bbc0a9a36de4cfe7a830e478d211acfc092ca7c54a023c4a1c\n",
            "  Stored in directory: /root/.cache/pip/wheels/75/07/38/3c16b529d50cb4e0cd3dbc7b75cece8a09c132692c74450b01\n",
            "Successfully built fire regex\n",
            "Installing collected packages: fire, regex, tqdm, toposort\n",
            "  Found existing installation: tqdm 4.28.1\n",
            "    Uninstalling tqdm-4.28.1:\n",
            "      Successfully uninstalled tqdm-4.28.1\n",
            "Successfully installed fire-0.2.1 regex-2017.4.5 toposort-1.5 tqdm-4.31.1\n"
          ],
          "name": "stdout"
        },
        {
          "output_type": "display_data",
          "data": {
            "application/vnd.colab-display-data+json": {
              "pip_warning": {
                "packages": [
                  "tqdm"
                ]
              }
            }
          },
          "metadata": {
            "tags": []
          }
        }
      ]
    },
    {
      "cell_type": "code",
      "metadata": {
        "id": "bJiO5j_OaQG6",
        "colab_type": "code",
        "outputId": "72c75eb7-7668-4720-ab87-b0810c0739cb",
        "colab": {
          "resources": {
            "http://localhost:8080/nbextensions/google.colab/files.js": {
              "data": "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",
              "ok": true,
              "headers": [
                [
                  "content-type",
                  "application/javascript"
                ]
              ],
              "status": 200,
              "status_text": ""
            }
          },
          "base_uri": "https://localhost:8080/",
          "height": 92
        }
      },
      "source": [
        "# Run this cell and select the kaggle.json file downloaded\n",
        "# from the Kaggle account settings page.\n",
        "from google.colab import files\n",
        "files.upload()"
      ],
      "execution_count": 0,
      "outputs": [
        {
          "output_type": "display_data",
          "data": {
            "text/html": [
              "\n",
              "     <input type=\"file\" id=\"files-68a40a03-635f-4202-a9b5-576db84ae0e4\" name=\"files[]\" multiple disabled />\n",
              "     <output id=\"result-68a40a03-635f-4202-a9b5-576db84ae0e4\">\n",
              "      Upload widget is only available when the cell has been executed in the\n",
              "      current browser session. Please rerun this cell to enable.\n",
              "      </output>\n",
              "      <script src=\"/nbextensions/google.colab/files.js\"></script> "
            ],
            "text/plain": [
              "<IPython.core.display.HTML object>"
            ]
          },
          "metadata": {
            "tags": []
          }
        },
        {
          "output_type": "stream",
          "text": [
            "Saving kaggle.json to kaggle (1).json\n"
          ],
          "name": "stdout"
        },
        {
          "output_type": "execute_result",
          "data": {
            "text/plain": [
              "{'kaggle.json': b'{\"username\":\"basifrank\",\"key\":\"f5f3c7a9c1f89b369d085833c612e5f3\"}'}"
            ]
          },
          "metadata": {
            "tags": []
          },
          "execution_count": 3
        }
      ]
    },
    {
      "cell_type": "code",
      "metadata": {
        "id": "nROzMQRBaOhY",
        "colab_type": "code",
        "outputId": "62ad29cd-8ac4-400a-edee-25f7a4745e64",
        "colab": {
          "base_uri": "https://localhost:8080/",
          "height": 34
        }
      },
      "source": [
        "# Let's make sure the kaggle.json file is present.\n",
        "!ls -lha kaggle.json"
      ],
      "execution_count": 0,
      "outputs": [
        {
          "output_type": "stream",
          "text": [
            "-rw-r--r-- 1 root root 65 Oct 12 09:02 kaggle.json\n"
          ],
          "name": "stdout"
        }
      ]
    },
    {
      "cell_type": "code",
      "metadata": {
        "id": "R97xs9edaOYv",
        "colab_type": "code",
        "colab": {}
      },
      "source": [
        "# Next, install the Kaggle API client.\n",
        "!pip install -q kaggle"
      ],
      "execution_count": 0,
      "outputs": []
    },
    {
      "cell_type": "code",
      "metadata": {
        "id": "6w4I5__7aM5N",
        "colab_type": "code",
        "outputId": "e2eb6ea2-070d-4fe0-cdb1-62816f4a1880",
        "colab": {
          "base_uri": "https://localhost:8080/",
          "height": 70
        }
      },
      "source": [
        "# The Kaggle API client expects this file to be in ~/.kaggle,\n",
        "# so move it there.\n",
        "!mkdir -p ~/.kaggle\n",
        "!cp kaggle.json ~/.kaggle/\n",
        "\n",
        "# This permissions change avoids a warning on Kaggle tool startup.\n",
        "!chmod 600 ~/.kaggle/kaggle.json\n",
        "#downloading data\n",
        "!kaggle datasets download -d rtatman/ubuntu-dialogue-corpus"
      ],
      "execution_count": 0,
      "outputs": [
        {
          "output_type": "stream",
          "text": [
            "Downloading ubuntu-dialogue-corpus.zip to /content/gpt-2\n",
            "100% 798M/799M [00:11<00:00, 70.3MB/s]\n",
            "100% 799M/799M [00:11<00:00, 75.7MB/s]\n"
          ],
          "name": "stdout"
        }
      ]
    },
    {
      "cell_type": "code",
      "metadata": {
        "id": "XB2hBG8-aMv8",
        "colab_type": "code",
        "outputId": "1bcd1d9e-a159-4650-f46a-3452d1769b93",
        "colab": {
          "base_uri": "https://localhost:8080/",
          "height": 70
        }
      },
      "source": [
        ""
      ],
      "execution_count": 0,
      "outputs": [
        {
          "output_type": "stream",
          "text": [
            "Downloading ubuntu-dialogue-corpus.zip to /content/gpt-2\n",
            " 99% 789M/799M [00:09<00:00, 116MB/s]\n",
            "100% 799M/799M [00:09<00:00, 87.7MB/s]\n"
          ],
          "name": "stdout"
        }
      ]
    },
    {
      "cell_type": "code",
      "metadata": {
        "id": "3P6kWCVLaMoh",
        "colab_type": "code",
        "outputId": "2eddab9a-7b47-462e-a2ff-5e9afc2103b1",
        "colab": {
          "base_uri": "https://localhost:8080/",
          "height": 105
        }
      },
      "source": [
        "!unzip ubuntu-dialogue-corpus.zip\n",
        "\n"
      ],
      "execution_count": 0,
      "outputs": [
        {
          "output_type": "stream",
          "text": [
            "Archive:  ubuntu-dialogue-corpus.zip\n",
            "  inflating: Ubuntu-dialogue-corpus/dialogueText.csv  \n",
            "  inflating: Ubuntu-dialogue-corpus/dialogueText_196.csv  \n",
            "  inflating: Ubuntu-dialogue-corpus/dialogueText_301.csv  \n",
            "  inflating: toc.csv                 \n"
          ],
          "name": "stdout"
        }
      ]
    },
    {
      "cell_type": "code",
      "metadata": {
        "id": "8pedpQA-eXTq",
        "colab_type": "code",
        "colab": {}
      },
      "source": [
        "#Reading data\n",
        "FIRST_DATA = 'Ubuntu-dialogue-corpus/dialogueText.csv'\n",
        "SECOND_DATA = 'Ubuntu-dialogue-corpus/dialogueText_196.csv'\n",
        "THIRD_DATA = 'Ubuntu-dialogue-corpus/dialogueText_301.csv'\n",
        "\n",
        "DF1 = pd.read_csv(FIRST_DATA, parse_dates=['date'], chunksize=1200000)\n",
        "DF2 = pd.read_csv(SECOND_DATA, parse_dates=['date'], chunksize=1200000)\n",
        "DF3 = pd.read_csv(THIRD_DATA, parse_dates=['date'], chunksize=1200000)"
      ],
      "execution_count": 0,
      "outputs": []
    },
    {
      "cell_type": "code",
      "metadata": {
        "id": "T0-K2BGZOZcU",
        "colab_type": "code",
        "outputId": "05754e9b-2a00-4d27-8489-3108d39894f8",
        "colab": {
          "base_uri": "https://localhost:8080/",
          "height": 34
        }
      },
      "source": [
        ""
      ],
      "execution_count": 0,
      "outputs": [
        {
          "output_type": "execute_result",
          "data": {
            "text/plain": [
              "<pandas.io.parsers.TextFileReader at 0x7f81e601b7f0>"
            ]
          },
          "metadata": {
            "tags": []
          },
          "execution_count": 13
        }
      ]
    },
    {
      "cell_type": "code",
      "metadata": {
        "id": "ltAVGnf7OZ50",
        "colab_type": "code",
        "colab": {}
      },
      "source": [
        ""
      ],
      "execution_count": 0,
      "outputs": []
    },
    {
      "cell_type": "code",
      "metadata": {
        "id": "pIsciKk7eXqZ",
        "colab_type": "code",
        "outputId": "c8d29066-1e97-45fb-af04-ae98a9e8a740",
        "colab": {
          "base_uri": "https://localhost:8080/",
          "height": 141
        }
      },
      "source": [
        "#downloading model\n",
        "!python download_model.py 345M"
      ],
      "execution_count": 0,
      "outputs": [
        {
          "output_type": "stream",
          "text": [
            "Fetching checkpoint: 1.00kit [00:00, 587kit/s]                                                      \n",
            "Fetching encoder.json: 1.04Mit [00:00, 36.0Mit/s]                                                   \n",
            "Fetching hparams.json: 1.00kit [00:00, 582kit/s]                                                    \n",
            "Fetching model.ckpt.data-00000-of-00001: 1.42Git [00:23, 61.7Mit/s]                                 \n",
            "Fetching model.ckpt.index: 11.0kit [00:00, 6.46Mit/s]                                               \n",
            "Fetching model.ckpt.meta: 927kit [00:00, 59.0Mit/s]                                                 \n",
            "Fetching vocab.bpe: 457kit [00:00, 48.1Mit/s]                                                       \n"
          ],
          "name": "stdout"
        }
      ]
    },
    {
      "cell_type": "code",
      "metadata": {
        "id": "rh05yrXReXkU",
        "colab_type": "code",
        "colab": {}
      },
      "source": [
        "!mkdir ubuntu-data ubuntu-npz"
      ],
      "execution_count": 0,
      "outputs": []
    },
    {
      "cell_type": "code",
      "metadata": {
        "id": "oJoeNodaeXMz",
        "colab_type": "code",
        "colab": {}
      },
      "source": [
        "#Cleaning function\n",
        "def clean(dataset, file_name):\n",
        "  i = 1\n",
        "  for data in dataset:    \n",
        "    text_corpus = ''\n",
        "    current = None\n",
        "    for msg in data.itertuples():\n",
        "      if msg.dialogueID != current:\n",
        "        current = msg.dialogueID\n",
        "        text_corpus += '\\n\\n'\n",
        "      try: \n",
        "        text_corpus += f\"({msg.date}) {msg._4}: {msg.text}\\n\"\n",
        "      except KeyError:\n",
        "        pass\n",
        "    \n",
        "    \n",
        "    with open(f'ubuntu-data/{file_name}_{i}.txt', 'w') as f:\n",
        "      f.write(text_corpus)  \n",
        "    del(text_corpus)\n",
        "    i += 1"
      ],
      "execution_count": 0,
      "outputs": []
    },
    {
      "cell_type": "code",
      "metadata": {
        "id": "mwcP0XdxeXEW",
        "colab_type": "code",
        "colab": {}
      },
      "source": [
        "#cleaning data\n",
        "clean(DF1, 'cleaned_d1_df')\n",
        "clean(DF2, 'cleaned_d2_df')\n",
        "clean(DF3, 'cleaned_d3_df')"
      ],
      "execution_count": 0,
      "outputs": []
    },
    {
      "cell_type": "code",
      "metadata": {
        "id": "moUWe3wQgaQX",
        "colab_type": "code",
        "outputId": "08e932b3-4238-4aae-f3c4-251017db278c",
        "colab": {
          "base_uri": "https://localhost:8080/",
          "height": 1000
        }
      },
      "source": [
        "#encoding\n",
        "!PYTHONPATH=src ./encode.py ubuntu-data/cleaned_d1_df_1.txt ubuntu-npz/cleaned_d1_df_1.txt.npz --model_name 345M\n",
        "!PYTHONPATH=src ./encode.py ubuntu-data/cleaned_d2_df_1.txt ubuntu-npz/cleaned_d2_df_1.txt.npz --model_name 345M\n",
        "!PYTHONPATH=src ./encode.py ubuntu-data/cleaned_d2_df_2.txt ubuntu-npz/cleaned_d2_df_2.txt.npz --model_name 345M\n",
        "!PYTHONPATH=src ./encode.py ubuntu-data/cleaned_d2_df_3.txt ubuntu-npz/cleaned_d2_df_3.txt.npz --model_name 345M\n",
        "!PYTHONPATH=src ./encode.py ubuntu-data/cleaned_d2_df_4.txt ubuntu-npz/cleaned_d2_df_4.txt.npz --model_name 345M\n",
        "!PYTHONPATH=src ./encode.py ubuntu-data/cleaned_d2_df_5.txt ubuntu-npz/cleaned_d2_df_5.txt.npz --model_name 345M\n",
        "!PYTHONPATH=src ./encode.py ubuntu-data/cleaned_d2_df_6.txt ubuntu-npz/cleaned_d2_df_6.txt.npz --model_name 345M\n",
        "!PYTHONPATH=src ./encode.py ubuntu-data/cleaned_d2_df_7.txt ubuntu-npz/cleaned_d2_df_7.txt.npz --model_name 345M\n",
        "!PYTHONPATH=src ./encode.py ubuntu-data/cleaned_d2_df_8.txt ubuntu-npz/cleaned_d2_df_8.txt.npz --model_name 345M\n",
        "!PYTHONPATH=src ./encode.py ubuntu-data/cleaned_d3_df_1.txt ubuntu-npz/cleaned_d3_df_1.txt.npz --model_name 345M\n",
        "!PYTHONPATH=src ./encode.py ubuntu-data/cleaned_d3_df_2.txt ubuntu-npz/cleaned_d3_df_2.txt.npz --model_name 345M\n",
        "!PYTHONPATH=src ./encode.py ubuntu-data/cleaned_d3_df_3.txt ubuntu-npz/cleaned_d3_df_3.txt.npz --model_name 345M\n",
        "!PYTHONPATH=src ./encode.py ubuntu-data/cleaned_d3_df_4.txt ubuntu-npz/cleaned_d3_df_4.txt.npz --model_name 345M\n",
        "!PYTHONPATH=src ./encode.py ubuntu-data/cleaned_d3_df_5.txt ubuntu-npz/cleaned_d3_df_5.txt.npz --model_name 345M\n",
        "!PYTHONPATH=src ./encode.py ubuntu-data/cleaned_d3_df_6.txt ubuntu-npz/cleaned_d3_df_6.txt.npz --model_name 345M\n",
        "!PYTHONPATH=src ./encode.py ubuntu-data/cleaned_d3_df_7.txt ubuntu-npz/cleaned_d3_df_7.txt.npz --model_name 345M\n",
        "!PYTHONPATH=src ./encode.py ubuntu-data/cleaned_d3_df_8.txt ubuntu-npz/cleaned_d3_df_8.txt.npz --model_name 345M\n",
        "!PYTHONPATH=src ./encode.py ubuntu-data/cleaned_d3_df_9.txt ubuntu-npz/cleaned_d3_df_9.txt.npz --model_name 345M\n",
        "!PYTHONPATH=src ./encode.py ubuntu-data/cleaned_d3_df_10.txt ubuntu-npz/cleaned_d3_df_10.txt.npz --model_name 345M"
      ],
      "execution_count": 0,
      "outputs": [
        {
          "output_type": "stream",
          "text": [
            "Reading files\n",
            "100% 1/1 [04:27<00:00, 267.28s/it]\n",
            "Writing ubuntu-npz/cleaned_d1_df_1.txt.npz\n",
            "Reading files\n",
            "100% 1/1 [03:50<00:00, 230.74s/it]\n",
            "Writing ubuntu-npz/cleaned_d2_df_1.txt.npz\n",
            "Reading files\n",
            "100% 1/1 [03:59<00:00, 239.39s/it]\n",
            "Writing ubuntu-npz/cleaned_d2_df_2.txt.npz\n",
            "Reading files\n",
            "100% 1/1 [03:49<00:00, 229.92s/it]\n",
            "Writing ubuntu-npz/cleaned_d2_df_3.txt.npz\n",
            "Reading files\n",
            "100% 1/1 [03:46<00:00, 226.81s/it]\n",
            "Writing ubuntu-npz/cleaned_d2_df_4.txt.npz\n",
            "Reading files\n",
            "100% 1/1 [03:54<00:00, 234.08s/it]\n",
            "Writing ubuntu-npz/cleaned_d2_df_5.txt.npz\n",
            "Reading files\n",
            "100% 1/1 [04:11<00:00, 251.50s/it]\n",
            "Writing ubuntu-npz/cleaned_d2_df_6.txt.npz\n",
            "Reading files\n",
            "100% 1/1 [04:09<00:00, 249.44s/it]\n",
            "Writing ubuntu-npz/cleaned_d2_df_7.txt.npz\n",
            "Reading files\n",
            "100% 1/1 [02:29<00:00, 149.05s/it]\n",
            "Writing ubuntu-npz/cleaned_d2_df_8.txt.npz\n",
            "Reading files\n",
            "100% 1/1 [03:53<00:00, 233.36s/it]\n",
            "Writing ubuntu-npz/cleaned_d3_df_1.txt.npz\n",
            "Reading files\n",
            "100% 1/1 [04:06<00:00, 246.09s/it]\n",
            "Writing ubuntu-npz/cleaned_d3_df_2.txt.npz\n",
            "Reading files\n",
            "100% 1/1 [03:53<00:00, 233.07s/it]\n",
            "Writing ubuntu-npz/cleaned_d3_df_3.txt.npz\n",
            "Reading files\n",
            "100% 1/1 [03:51<00:00, 231.23s/it]\n",
            "Writing ubuntu-npz/cleaned_d3_df_4.txt.npz\n",
            "Reading files\n",
            "100% 1/1 [04:00<00:00, 240.95s/it]\n",
            "Writing ubuntu-npz/cleaned_d3_df_5.txt.npz\n",
            "Reading files\n",
            "100% 1/1 [04:26<00:00, 266.30s/it]\n",
            "Writing ubuntu-npz/cleaned_d3_df_6.txt.npz\n",
            "Reading files\n",
            "100% 1/1 [04:25<00:00, 265.39s/it]\n",
            "Writing ubuntu-npz/cleaned_d3_df_7.txt.npz\n",
            "Reading files\n",
            "100% 1/1 [03:46<00:00, 226.21s/it]\n",
            "Writing ubuntu-npz/cleaned_d3_df_8.txt.npz\n",
            "Reading files\n",
            "100% 1/1 [03:51<00:00, 231.15s/it]\n",
            "Writing ubuntu-npz/cleaned_d3_df_9.txt.npz\n",
            "Reading files\n",
            "100% 1/1 [05:10<00:00, 310.12s/it]\n",
            "Writing ubuntu-npz/cleaned_d3_df_10.txt.npz\n"
          ],
          "name": "stdout"
        }
      ]
    },
    {
      "cell_type": "code",
      "metadata": {
        "id": "Q3kArVtYgbEc",
        "colab_type": "code",
        "outputId": "40b102d4-8207-41fe-b3c9-227ed33cea8a",
        "colab": {
          "base_uri": "https://localhost:8080/",
          "height": 1000
        }
      },
      "source": [
        "#Training data\n",
        "!PYTHONPATH=src ./train.py --dataset ubuntu-npz/ --sample_every 250 --stop_after 1450 --model_name 345M"
      ],
      "execution_count": 0,
      "outputs": [
        {
          "output_type": "stream",
          "text": [
            "WARNING:tensorflow:From /content/gpt-2/src/model.py:147: The name tf.AUTO_REUSE is deprecated. Please use tf.compat.v1.AUTO_REUSE instead.\n",
            "\n",
            "WARNING:tensorflow:\n",
            "The TensorFlow contrib module will not be included in TensorFlow 2.0.\n",
            "For more information, please see:\n",
            "  * https://github.com/tensorflow/community/blob/master/rfcs/20180907-contrib-sunset.md\n",
            "  * https://github.com/tensorflow/addons\n",
            "  * https://github.com/tensorflow/io (for I/O related ops)\n",
            "If you depend on functionality not listed there, please file an issue.\n",
            "\n",
            "WARNING:tensorflow:From /content/gpt-2/src/memory_saving_gradients.py:13: The name tf.GraphKeys is deprecated. Please use tf.compat.v1.GraphKeys instead.\n",
            "\n",
            "WARNING:tensorflow:From ./train.py:73: The name tf.ConfigProto is deprecated. Please use tf.compat.v1.ConfigProto instead.\n",
            "\n",
            "WARNING:tensorflow:From ./train.py:76: The name tf.Session is deprecated. Please use tf.compat.v1.Session instead.\n",
            "\n",
            "2019-10-12 10:44:17.057088: I tensorflow/core/platform/profile_utils/cpu_utils.cc:94] CPU Frequency: 2200000000 Hz\n",
            "2019-10-12 10:44:17.061403: I tensorflow/compiler/xla/service/service.cc:168] XLA service 0x24ed640 initialized for platform Host (this does not guarantee that XLA will be used). Devices:\n",
            "2019-10-12 10:44:17.061499: I tensorflow/compiler/xla/service/service.cc:176]   StreamExecutor device (0): Host, Default Version\n",
            "WARNING:tensorflow:From ./train.py:77: The name tf.placeholder is deprecated. Please use tf.compat.v1.placeholder instead.\n",
            "\n",
            "WARNING:tensorflow:From /content/gpt-2/src/model.py:148: The name tf.variable_scope is deprecated. Please use tf.compat.v1.variable_scope instead.\n",
            "\n",
            "WARNING:tensorflow:From /content/gpt-2/src/model.py:152: The name tf.get_variable is deprecated. Please use tf.compat.v1.get_variable instead.\n",
            "\n",
            "WARNING:tensorflow:From /content/gpt-2/src/model.py:36: The name tf.rsqrt is deprecated. Please use tf.math.rsqrt instead.\n",
            "\n",
            "WARNING:tensorflow:From /content/gpt-2/src/model.py:166: The name tf.add_to_collection is deprecated. Please use tf.compat.v1.add_to_collection instead.\n",
            "\n",
            "WARNING:tensorflow:From /content/gpt-2/src/sample.py:51: to_float (from tensorflow.python.ops.math_ops) is deprecated and will be removed in a future version.\n",
            "Instructions for updating:\n",
            "Use `tf.cast` instead.\n",
            "WARNING:tensorflow:From /content/gpt-2/src/sample.py:16: where (from tensorflow.python.ops.array_ops) is deprecated and will be removed in a future version.\n",
            "Instructions for updating:\n",
            "Use tf.where in 2.0, which has the same broadcast rule as np.where\n",
            "WARNING:tensorflow:From /content/gpt-2/src/sample.py:53: multinomial (from tensorflow.python.ops.random_ops) is deprecated and will be removed in a future version.\n",
            "Instructions for updating:\n",
            "Use `tf.random.categorical` instead.\n",
            "WARNING:tensorflow:From ./train.py:100: The name tf.trainable_variables is deprecated. Please use tf.compat.v1.trainable_variables instead.\n",
            "\n",
            "WARNING:tensorflow:From ./train.py:113: The name tf.train.AdamOptimizer is deprecated. Please use tf.compat.v1.train.AdamOptimizer instead.\n",
            "\n",
            "WARNING:tensorflow:From /content/gpt-2/src/memory_saving_gradients.py:62: get_backward_walk_ops (from tensorflow.contrib.graph_editor.select) is deprecated and will be removed after 2019-06-06.\n",
            "Instructions for updating:\n",
            "Please use tensorflow.python.ops.op_selector.get_backward_walk_ops.\n",
            "WARNING:tensorflow:From /content/gpt-2/src/memory_saving_gradients.py:89: The name tf.get_collection is deprecated. Please use tf.compat.v1.get_collection instead.\n",
            "\n",
            "WARNING:tensorflow:From ./train.py:120: The name tf.summary.scalar is deprecated. Please use tf.compat.v1.summary.scalar instead.\n",
            "\n",
            "WARNING:tensorflow:From ./train.py:122: The name tf.summary.FileWriter is deprecated. Please use tf.compat.v1.summary.FileWriter instead.\n",
            "\n",
            "WARNING:tensorflow:From ./train.py:125: The name tf.train.Saver is deprecated. Please use tf.compat.v1.train.Saver instead.\n",
            "\n",
            "WARNING:tensorflow:From ./train.py:129: The name tf.global_variables_initializer is deprecated. Please use tf.compat.v1.global_variables_initializer instead.\n",
            "\n",
            "Loading checkpoint models/345M/model.ckpt\n",
            "Loading dataset...\n",
            "100% 19/19 [00:38<00:00,  2.58s/it]\n",
            "dataset has 782061701 tokens\n",
            "Training...\n",
            "^C\n"
          ],
          "name": "stdout"
        }
      ]
    },
    {
      "cell_type": "code",
      "metadata": {
        "id": "9iudSYJwgbad",
        "colab_type": "code",
        "outputId": "61f10bd9-a100-45ad-8ce2-2645690f842e",
        "colab": {
          "base_uri": "https://localhost:8080/",
          "height": 1000
        }
      },
      "source": [
        "!PYTHONPATH=src ./train.py --dataset ubuntu-npz/ --sample_every 250 --learning_rate 0.0001 --stop_after 3501 --model_name 345M"
      ],
      "execution_count": 0,
      "outputs": [
        {
          "output_type": "stream",
          "text": [
            "WARNING:tensorflow:From /content/gpt-2/src/model.py:147: The name tf.AUTO_REUSE is deprecated. Please use tf.compat.v1.AUTO_REUSE instead.\n",
            "\n",
            "WARNING:tensorflow:\n",
            "The TensorFlow contrib module will not be included in TensorFlow 2.0.\n",
            "For more information, please see:\n",
            "  * https://github.com/tensorflow/community/blob/master/rfcs/20180907-contrib-sunset.md\n",
            "  * https://github.com/tensorflow/addons\n",
            "  * https://github.com/tensorflow/io (for I/O related ops)\n",
            "If you depend on functionality not listed there, please file an issue.\n",
            "\n",
            "WARNING:tensorflow:From /content/gpt-2/src/memory_saving_gradients.py:13: The name tf.GraphKeys is deprecated. Please use tf.compat.v1.GraphKeys instead.\n",
            "\n",
            "WARNING:tensorflow:From ./train.py:73: The name tf.ConfigProto is deprecated. Please use tf.compat.v1.ConfigProto instead.\n",
            "\n",
            "WARNING:tensorflow:From ./train.py:76: The name tf.Session is deprecated. Please use tf.compat.v1.Session instead.\n",
            "\n",
            "2019-10-12 10:50:33.265470: I tensorflow/core/platform/profile_utils/cpu_utils.cc:94] CPU Frequency: 2200000000 Hz\n",
            "2019-10-12 10:50:33.265830: I tensorflow/compiler/xla/service/service.cc:168] XLA service 0x1bb7640 initialized for platform Host (this does not guarantee that XLA will be used). Devices:\n",
            "2019-10-12 10:50:33.265880: I tensorflow/compiler/xla/service/service.cc:176]   StreamExecutor device (0): Host, Default Version\n",
            "WARNING:tensorflow:From ./train.py:77: The name tf.placeholder is deprecated. Please use tf.compat.v1.placeholder instead.\n",
            "\n",
            "WARNING:tensorflow:From /content/gpt-2/src/model.py:148: The name tf.variable_scope is deprecated. Please use tf.compat.v1.variable_scope instead.\n",
            "\n",
            "WARNING:tensorflow:From /content/gpt-2/src/model.py:152: The name tf.get_variable is deprecated. Please use tf.compat.v1.get_variable instead.\n",
            "\n",
            "WARNING:tensorflow:From /content/gpt-2/src/model.py:36: The name tf.rsqrt is deprecated. Please use tf.math.rsqrt instead.\n",
            "\n",
            "WARNING:tensorflow:From /content/gpt-2/src/model.py:166: The name tf.add_to_collection is deprecated. Please use tf.compat.v1.add_to_collection instead.\n",
            "\n",
            "WARNING:tensorflow:From /content/gpt-2/src/sample.py:51: to_float (from tensorflow.python.ops.math_ops) is deprecated and will be removed in a future version.\n",
            "Instructions for updating:\n",
            "Use `tf.cast` instead.\n",
            "WARNING:tensorflow:From /content/gpt-2/src/sample.py:16: where (from tensorflow.python.ops.array_ops) is deprecated and will be removed in a future version.\n",
            "Instructions for updating:\n",
            "Use tf.where in 2.0, which has the same broadcast rule as np.where\n",
            "WARNING:tensorflow:From /content/gpt-2/src/sample.py:53: multinomial (from tensorflow.python.ops.random_ops) is deprecated and will be removed in a future version.\n",
            "Instructions for updating:\n",
            "Use `tf.random.categorical` instead.\n",
            "WARNING:tensorflow:From ./train.py:100: The name tf.trainable_variables is deprecated. Please use tf.compat.v1.trainable_variables instead.\n",
            "\n",
            "WARNING:tensorflow:From ./train.py:113: The name tf.train.AdamOptimizer is deprecated. Please use tf.compat.v1.train.AdamOptimizer instead.\n",
            "\n",
            "WARNING:tensorflow:From /content/gpt-2/src/memory_saving_gradients.py:62: get_backward_walk_ops (from tensorflow.contrib.graph_editor.select) is deprecated and will be removed after 2019-06-06.\n",
            "Instructions for updating:\n",
            "Please use tensorflow.python.ops.op_selector.get_backward_walk_ops.\n",
            "WARNING:tensorflow:From /content/gpt-2/src/memory_saving_gradients.py:89: The name tf.get_collection is deprecated. Please use tf.compat.v1.get_collection instead.\n",
            "\n",
            "WARNING:tensorflow:From ./train.py:120: The name tf.summary.scalar is deprecated. Please use tf.compat.v1.summary.scalar instead.\n",
            "\n",
            "WARNING:tensorflow:From ./train.py:122: The name tf.summary.FileWriter is deprecated. Please use tf.compat.v1.summary.FileWriter instead.\n",
            "\n",
            "WARNING:tensorflow:From ./train.py:125: The name tf.train.Saver is deprecated. Please use tf.compat.v1.train.Saver instead.\n",
            "\n",
            "WARNING:tensorflow:From ./train.py:129: The name tf.global_variables_initializer is deprecated. Please use tf.compat.v1.global_variables_initializer instead.\n",
            "\n",
            "Loading checkpoint models/345M/model.ckpt\n",
            "Loading dataset...\n",
            "100% 19/19 [00:36<00:00,  2.33s/it]\n",
            "dataset has 782061701 tokens\n",
            "Training...\n",
            "^C\n"
          ],
          "name": "stdout"
        }
      ]
    },
    {
      "cell_type": "code",
      "metadata": {
        "id": "THUi1AbfgaLd",
        "colab_type": "code",
        "outputId": "16a9f4df-9654-43bb-d2eb-804bcffe3ba8",
        "colab": {
          "base_uri": "https://localhost:8080/",
          "height": 1000
        }
      },
      "source": [
        "!PYTHONPATH=src ./train.py --dataset ubuntu-npz/ --sample_every 250 --learning_rate 0.000001 --stop_after 5001 --model_name 345M"
      ],
      "execution_count": 0,
      "outputs": [
        {
          "output_type": "stream",
          "text": [
            "WARNING:tensorflow:From /content/gpt-2/src/model.py:147: The name tf.AUTO_REUSE is deprecated. Please use tf.compat.v1.AUTO_REUSE instead.\n",
            "\n",
            "WARNING:tensorflow:\n",
            "The TensorFlow contrib module will not be included in TensorFlow 2.0.\n",
            "For more information, please see:\n",
            "  * https://github.com/tensorflow/community/blob/master/rfcs/20180907-contrib-sunset.md\n",
            "  * https://github.com/tensorflow/addons\n",
            "  * https://github.com/tensorflow/io (for I/O related ops)\n",
            "If you depend on functionality not listed there, please file an issue.\n",
            "\n",
            "WARNING:tensorflow:From /content/gpt-2/src/memory_saving_gradients.py:13: The name tf.GraphKeys is deprecated. Please use tf.compat.v1.GraphKeys instead.\n",
            "\n",
            "WARNING:tensorflow:From ./train.py:73: The name tf.ConfigProto is deprecated. Please use tf.compat.v1.ConfigProto instead.\n",
            "\n",
            "WARNING:tensorflow:From ./train.py:76: The name tf.Session is deprecated. Please use tf.compat.v1.Session instead.\n",
            "\n",
            "2019-10-12 10:56:15.299253: I tensorflow/core/platform/profile_utils/cpu_utils.cc:94] CPU Frequency: 2200000000 Hz\n",
            "2019-10-12 10:56:15.299625: I tensorflow/compiler/xla/service/service.cc:168] XLA service 0x1c2f640 initialized for platform Host (this does not guarantee that XLA will be used). Devices:\n",
            "2019-10-12 10:56:15.299673: I tensorflow/compiler/xla/service/service.cc:176]   StreamExecutor device (0): Host, Default Version\n",
            "WARNING:tensorflow:From ./train.py:77: The name tf.placeholder is deprecated. Please use tf.compat.v1.placeholder instead.\n",
            "\n",
            "WARNING:tensorflow:From /content/gpt-2/src/model.py:148: The name tf.variable_scope is deprecated. Please use tf.compat.v1.variable_scope instead.\n",
            "\n",
            "WARNING:tensorflow:From /content/gpt-2/src/model.py:152: The name tf.get_variable is deprecated. Please use tf.compat.v1.get_variable instead.\n",
            "\n",
            "WARNING:tensorflow:From /content/gpt-2/src/model.py:36: The name tf.rsqrt is deprecated. Please use tf.math.rsqrt instead.\n",
            "\n",
            "WARNING:tensorflow:From /content/gpt-2/src/model.py:166: The name tf.add_to_collection is deprecated. Please use tf.compat.v1.add_to_collection instead.\n",
            "\n",
            "WARNING:tensorflow:From /content/gpt-2/src/sample.py:51: to_float (from tensorflow.python.ops.math_ops) is deprecated and will be removed in a future version.\n",
            "Instructions for updating:\n",
            "Use `tf.cast` instead.\n",
            "WARNING:tensorflow:From /content/gpt-2/src/sample.py:16: where (from tensorflow.python.ops.array_ops) is deprecated and will be removed in a future version.\n",
            "Instructions for updating:\n",
            "Use tf.where in 2.0, which has the same broadcast rule as np.where\n",
            "WARNING:tensorflow:From /content/gpt-2/src/sample.py:53: multinomial (from tensorflow.python.ops.random_ops) is deprecated and will be removed in a future version.\n",
            "Instructions for updating:\n",
            "Use `tf.random.categorical` instead.\n",
            "WARNING:tensorflow:From ./train.py:100: The name tf.trainable_variables is deprecated. Please use tf.compat.v1.trainable_variables instead.\n",
            "\n",
            "WARNING:tensorflow:From ./train.py:113: The name tf.train.AdamOptimizer is deprecated. Please use tf.compat.v1.train.AdamOptimizer instead.\n",
            "\n",
            "WARNING:tensorflow:From /content/gpt-2/src/memory_saving_gradients.py:62: get_backward_walk_ops (from tensorflow.contrib.graph_editor.select) is deprecated and will be removed after 2019-06-06.\n",
            "Instructions for updating:\n",
            "Please use tensorflow.python.ops.op_selector.get_backward_walk_ops.\n",
            "WARNING:tensorflow:From /content/gpt-2/src/memory_saving_gradients.py:89: The name tf.get_collection is deprecated. Please use tf.compat.v1.get_collection instead.\n",
            "\n",
            "WARNING:tensorflow:From ./train.py:120: The name tf.summary.scalar is deprecated. Please use tf.compat.v1.summary.scalar instead.\n",
            "\n",
            "WARNING:tensorflow:From ./train.py:122: The name tf.summary.FileWriter is deprecated. Please use tf.compat.v1.summary.FileWriter instead.\n",
            "\n",
            "WARNING:tensorflow:From ./train.py:125: The name tf.train.Saver is deprecated. Please use tf.compat.v1.train.Saver instead.\n",
            "\n",
            "WARNING:tensorflow:From ./train.py:129: The name tf.global_variables_initializer is deprecated. Please use tf.compat.v1.global_variables_initializer instead.\n",
            "\n",
            "Loading checkpoint models/345M/model.ckpt\n",
            "Loading dataset...\n",
            "100% 19/19 [00:36<00:00,  2.32s/it]\n",
            "dataset has 782061701 tokens\n",
            "Training...\n",
            "^C\n"
          ],
          "name": "stdout"
        }
      ]
    },
    {
      "cell_type": "code",
      "metadata": {
        "id": "Hz4JYwrSQ0j0",
        "colab_type": "code",
        "outputId": "49b85b53-02fd-4f33-8dab-4a8fc88af4ef",
        "colab": {
          "base_uri": "https://localhost:8080/",
          "height": 1000
        }
      },
      "source": [
        "#Training model\n",
        "\n",
        "!PYTHONPATH=src ./train.py --dataset ubuntu-npz/ --sample_every=250 --learning_rate=0.01 --stop_after=1251 --model_name 345M"
      ],
      "execution_count": 0,
      "outputs": [
        {
          "output_type": "stream",
          "text": [
            "WARNING:tensorflow:From /content/gpt-2/src/model.py:147: The name tf.AUTO_REUSE is deprecated. Please use tf.compat.v1.AUTO_REUSE instead.\n",
            "\n",
            "WARNING:tensorflow:\n",
            "The TensorFlow contrib module will not be included in TensorFlow 2.0.\n",
            "For more information, please see:\n",
            "  * https://github.com/tensorflow/community/blob/master/rfcs/20180907-contrib-sunset.md\n",
            "  * https://github.com/tensorflow/addons\n",
            "  * https://github.com/tensorflow/io (for I/O related ops)\n",
            "If you depend on functionality not listed there, please file an issue.\n",
            "\n",
            "WARNING:tensorflow:From /content/gpt-2/src/memory_saving_gradients.py:13: The name tf.GraphKeys is deprecated. Please use tf.compat.v1.GraphKeys instead.\n",
            "\n",
            "WARNING:tensorflow:From ./train.py:73: The name tf.ConfigProto is deprecated. Please use tf.compat.v1.ConfigProto instead.\n",
            "\n",
            "WARNING:tensorflow:From ./train.py:76: The name tf.Session is deprecated. Please use tf.compat.v1.Session instead.\n",
            "\n",
            "2019-10-12 11:03:17.991864: I tensorflow/core/platform/profile_utils/cpu_utils.cc:94] CPU Frequency: 2200000000 Hz\n",
            "2019-10-12 11:03:17.992235: I tensorflow/compiler/xla/service/service.cc:168] XLA service 0x1f65640 initialized for platform Host (this does not guarantee that XLA will be used). Devices:\n",
            "2019-10-12 11:03:17.992278: I tensorflow/compiler/xla/service/service.cc:176]   StreamExecutor device (0): Host, Default Version\n",
            "WARNING:tensorflow:From ./train.py:77: The name tf.placeholder is deprecated. Please use tf.compat.v1.placeholder instead.\n",
            "\n",
            "WARNING:tensorflow:From /content/gpt-2/src/model.py:148: The name tf.variable_scope is deprecated. Please use tf.compat.v1.variable_scope instead.\n",
            "\n",
            "WARNING:tensorflow:From /content/gpt-2/src/model.py:152: The name tf.get_variable is deprecated. Please use tf.compat.v1.get_variable instead.\n",
            "\n",
            "WARNING:tensorflow:From /content/gpt-2/src/model.py:36: The name tf.rsqrt is deprecated. Please use tf.math.rsqrt instead.\n",
            "\n",
            "WARNING:tensorflow:From /content/gpt-2/src/model.py:166: The name tf.add_to_collection is deprecated. Please use tf.compat.v1.add_to_collection instead.\n",
            "\n",
            "WARNING:tensorflow:From /content/gpt-2/src/sample.py:51: to_float (from tensorflow.python.ops.math_ops) is deprecated and will be removed in a future version.\n",
            "Instructions for updating:\n",
            "Use `tf.cast` instead.\n",
            "WARNING:tensorflow:From /content/gpt-2/src/sample.py:16: where (from tensorflow.python.ops.array_ops) is deprecated and will be removed in a future version.\n",
            "Instructions for updating:\n",
            "Use tf.where in 2.0, which has the same broadcast rule as np.where\n",
            "WARNING:tensorflow:From /content/gpt-2/src/sample.py:53: multinomial (from tensorflow.python.ops.random_ops) is deprecated and will be removed in a future version.\n",
            "Instructions for updating:\n",
            "Use `tf.random.categorical` instead.\n",
            "WARNING:tensorflow:From ./train.py:100: The name tf.trainable_variables is deprecated. Please use tf.compat.v1.trainable_variables instead.\n",
            "\n",
            "WARNING:tensorflow:From ./train.py:113: The name tf.train.AdamOptimizer is deprecated. Please use tf.compat.v1.train.AdamOptimizer instead.\n",
            "\n",
            "WARNING:tensorflow:From /content/gpt-2/src/memory_saving_gradients.py:62: get_backward_walk_ops (from tensorflow.contrib.graph_editor.select) is deprecated and will be removed after 2019-06-06.\n",
            "Instructions for updating:\n",
            "Please use tensorflow.python.ops.op_selector.get_backward_walk_ops.\n",
            "WARNING:tensorflow:From /content/gpt-2/src/memory_saving_gradients.py:89: The name tf.get_collection is deprecated. Please use tf.compat.v1.get_collection instead.\n",
            "\n",
            "WARNING:tensorflow:From ./train.py:120: The name tf.summary.scalar is deprecated. Please use tf.compat.v1.summary.scalar instead.\n",
            "\n",
            "WARNING:tensorflow:From ./train.py:122: The name tf.summary.FileWriter is deprecated. Please use tf.compat.v1.summary.FileWriter instead.\n",
            "\n",
            "WARNING:tensorflow:From ./train.py:125: The name tf.train.Saver is deprecated. Please use tf.compat.v1.train.Saver instead.\n",
            "\n",
            "WARNING:tensorflow:From ./train.py:129: The name tf.global_variables_initializer is deprecated. Please use tf.compat.v1.global_variables_initializer instead.\n",
            "\n",
            "Loading checkpoint models/345M/model.ckpt\n",
            "Loading dataset...\n",
            "100% 19/19 [00:36<00:00,  2.34s/it]\n",
            "dataset has 782061701 tokens\n",
            "Training...\n",
            "^C\n"
          ],
          "name": "stdout"
        }
      ]
    },
    {
      "cell_type": "code",
      "metadata": {
        "id": "Cg0DRu_HQxhz",
        "colab_type": "code",
        "outputId": "48212213-5e28-4ed6-a74a-f80a86315919",
        "colab": {
          "base_uri": "https://localhost:8080/",
          "height": 34
        }
      },
      "source": [
        "#copy the new trainned weights\n",
        "\n",
        "\n",
        "!cp -r /content/gpt-2/checkpoint/run1/* /content/gpt-2/models/345M/"
      ],
      "execution_count": 0,
      "outputs": [
        {
          "output_type": "stream",
          "text": [
            "cp: cannot stat '/content/gpt-2/checkpoint/run1/*': No such file or directory\n"
          ],
          "name": "stdout"
        }
      ]
    },
    {
      "cell_type": "code",
      "metadata": {
        "id": "-zjcsVd_m7QQ",
        "colab_type": "code",
        "colab": {}
      },
      "source": [
        ""
      ],
      "execution_count": 0,
      "outputs": []
    },
    {
      "cell_type": "code",
      "metadata": {
        "id": "isWpmLRQm7KL",
        "colab_type": "code",
        "colab": {}
      },
      "source": [
        ""
      ],
      "execution_count": 0,
      "outputs": []
    },
    {
      "cell_type": "code",
      "metadata": {
        "id": "Esbhwu6im69G",
        "colab_type": "code",
        "colab": {}
      },
      "source": [
        ""
      ],
      "execution_count": 0,
      "outputs": []
    },
    {
      "cell_type": "code",
      "metadata": {
        "id": "5Sdwn13qgaGK",
        "colab_type": "code",
        "outputId": "f08f2c92-107c-4bf9-9f4a-82e8160ed839",
        "colab": {
          "base_uri": "https://localhost:8080/",
          "height": 1000
        }
      },
      "source": [
        "#generate conversations on its own \n",
        "#generate sample articles on its own base on the trained data.\n",
        "!python3 src/generate_unconditional_samples.py --top_k 40 --temperature 0.95 --model_name 345M"
      ],
      "execution_count": 0,
      "outputs": [
        {
          "output_type": "stream",
          "text": [
            "WARNING:tensorflow:From /content/gpt-2/src/model.py:147: The name tf.AUTO_REUSE is deprecated. Please use tf.compat.v1.AUTO_REUSE instead.\n",
            "\n",
            "WARNING:tensorflow:From src/generate_unconditional_samples.py:49: The name tf.Session is deprecated. Please use tf.compat.v1.Session instead.\n",
            "\n",
            "2019-10-12 11:14:47.496973: I tensorflow/core/platform/profile_utils/cpu_utils.cc:94] CPU Frequency: 2200000000 Hz\n",
            "2019-10-12 11:14:47.497253: I tensorflow/compiler/xla/service/service.cc:168] XLA service 0x27ad800 initialized for platform Host (this does not guarantee that XLA will be used). Devices:\n",
            "2019-10-12 11:14:47.497290: I tensorflow/compiler/xla/service/service.cc:176]   StreamExecutor device (0): Host, Default Version\n",
            "WARNING:tensorflow:From src/generate_unconditional_samples.py:51: The name tf.set_random_seed is deprecated. Please use tf.compat.v1.set_random_seed instead.\n",
            "\n",
            "WARNING:tensorflow:From /content/gpt-2/src/model.py:148: The name tf.variable_scope is deprecated. Please use tf.compat.v1.variable_scope instead.\n",
            "\n",
            "WARNING:tensorflow:From /content/gpt-2/src/model.py:152: The name tf.get_variable is deprecated. Please use tf.compat.v1.get_variable instead.\n",
            "\n",
            "WARNING:tensorflow:From /content/gpt-2/src/model.py:36: The name tf.rsqrt is deprecated. Please use tf.math.rsqrt instead.\n",
            "\n",
            "WARNING:tensorflow:From /content/gpt-2/src/model.py:166: The name tf.add_to_collection is deprecated. Please use tf.compat.v1.add_to_collection instead.\n",
            "\n",
            "WARNING:tensorflow:From /content/gpt-2/src/sample.py:51: to_float (from tensorflow.python.ops.math_ops) is deprecated and will be removed in a future version.\n",
            "Instructions for updating:\n",
            "Use `tf.cast` instead.\n",
            "WARNING:tensorflow:From /content/gpt-2/src/sample.py:16: where (from tensorflow.python.ops.array_ops) is deprecated and will be removed in a future version.\n",
            "Instructions for updating:\n",
            "Use tf.where in 2.0, which has the same broadcast rule as np.where\n",
            "WARNING:tensorflow:From /content/gpt-2/src/sample.py:53: multinomial (from tensorflow.python.ops.random_ops) is deprecated and will be removed in a future version.\n",
            "Instructions for updating:\n",
            "Use `tf.random.categorical` instead.\n",
            "WARNING:tensorflow:From src/generate_unconditional_samples.py:60: The name tf.train.Saver is deprecated. Please use tf.compat.v1.train.Saver instead.\n",
            "\n",
            "======================================== SAMPLE 1 ========================================\n",
            "With the rise of Apple Pay, it's easy to ignore how much less data Apple charges. Some consumers may still think that, but it would be more than the $99 fee—or just the $20.99 charge, if you're a customer of AT&T who uses AT&T's network.\n",
            "\n",
            "The company's new mobile payment system allows iPhone, iPad, and Apple Watch users to pay each other via a unique identification code.\n",
            "\n",
            "Apple Pay's cost is about $50 per transaction—compared to $15 a month for an average carrier. But those fees only start at $50 a month. After $10, Apple begins charging extra fees like Apple Pay credit cards and a data fee. Apple Pay's total cost, per transaction, is about $3.49.\n",
            "\n",
            "Apple Pay charges $25 per $100 in usage, up from $25 a month earlier. An iPhone 6, iPhone 6 Plus, and iPhone 7 all use the new mobile payment technology, but only the Apple Watch Edition charges for data.\n",
            "\n",
            "AT&T customers paying with Apple Pay, using their own iPhone, can make Apple Pay payments of 10 cents per transaction for the first one. After that fee, payment options increase according to device and network type.\n",
            "\n",
            "With AT&T's current 3.9 percent data rate, the company is charging Apple Pay users $5.20 every time they use an iPhone or iPad, as opposed to just $0.25 for other purchases using the Apple Pay app. Apple Pay costs $8.99 to use at AT&T, which could give some extra flexibility if you do decide to skip the carrier for a while.\n",
            "\n",
            "But Apple Pay still only works with AT&T customers using at least one SIM card in their network and without a data connection. As a result, anyone using Apple Pay on an AT&T iPhone will experience data outages for a while—if a line is down.\n",
            "\n",
            "If you can't skip the carrier for a while, Apple Pay isn't going to help you use more data than necessary. For example, some of Apple Watch purchases using Apple Pay are free when you use Apple Pay on the Watch only because the phone has a data connection, according to an Apple spokesperson.\n",
            "\n",
            "But those costs won't last forever. Apple Pay data fees will climb every time a device is upgraded, meaning you won't be able to access your account when the upgrade happens soon after.\n",
            "\n",
            "So to make Apple Pay worth your while, you'll want to get your iPhone 6, iPhone 6 Plus, and iPhone 7 running iOS 11 or up—or you'll simply be saving some money. In the meantime, here are some tips for how to use Apple Pay with your device to get the best bang for your bill.\n",
            "\n",
            "1.) Use iOS 11.\n",
            "\n",
            "iOS 11 makes a lot of changes. There's a brand new default theme, which is called Apple Pie 2. It's a light green theme with two shades that fit the look of your default Apple Watch. The app you have on your device should come preinstalled with Apple Pie 2. It's available free of charge in the App Store.\n",
            "\n",
            "2.) Use the app you use, and make sure it's compatible with the latest iOS versions. For example, if it's iOS 11.2, then use the latest version of the Watch's built-in camera if it can be connected to an iPhone.\n",
            "\n",
            "If the app is compatible with iOS 8 or older, you'll probably need to enable a developer permission. If it's compatible, then you'll just need to open the watch settings menu and tap Accessibility.\n",
            "\n",
            "3.) Find a compatible phone you like and make sure it's compatible with iPhone 6 and iPhone 6 Plus.\n",
            "\n",
            "With your device now set up properly, turn on Bluetooth pairing on the device and the Watch will be paired to your Android device or your Windows 10 PC. Once Bluetooth pairing is activated, you can use Apple Pay without using a cable connecting to your computer or a USB cable.\n",
            "\n",
            "4.) When using Apple Pay to make purchases, you'll notice that a green icon appears when you hold the Pay Now button. This is the Apple Pay button in the upper right corner of the watch face. Tap the icon to load your account into that account, or to create a new account using an existing Apple Pay account.<|endoftext|>The following blog post, unless otherwise noted, was written by a member of Gamasutra's community.\n",
            "\n",
            "The thoughts and opinions expressed are those of the writer and not Gamasutra or its parent company.\n",
            "\n",
            "The Game:\n",
            "\n",
            "Lara's Journey is a game by the developers Coding Horror Games. The idea came to me two years ago when I was reading a comic book series called Coding Horror, which I picked up at a comic book store for cheap, a while later at an arcade. It came from a strange place for me: I had always thought that the genre of horror stories was generally something\n",
            "======================================== SAMPLE 2 ========================================\n",
            "At the moment it is impossible to verify in any reasonable way the authenticity of any of the statements being made by the media about the murder of Michael Brown in Ferguson. It is also impossible to establish definitively whether or not the death of Brown, according to the narrative being put forward at the moment, was preventable or inevitable. Nevertheless all of the major media organisations which are making public statements and commentaries – Reuters, the BBC, CNN and the Washington Post among others – have all expressed their outrage about Brown's death and the circumstances in which it happened and have spoken in very sharply negative terms about police.\n",
            "\n",
            "This is what happens when you rely on the actions of private individuals to make critical statements in the face of such a clear threat to their own credibility: the risk is that the public will take this as a cue to question you politically.\n",
            "\n",
            "It is time for those in the public discourse to stop relying totally on private individuals as spokespeople. I find it surprising that the media have now started to use the death of Michael Brown as a sort of warning signal and to call for an end to the practice of excessive reliance on individual opinion and self-promotion within a civilised and democratic society. The current position of the media – which can now say anything without fear of being attacked by the public if it is deemed not to satisfy their own standard of truth – is one in which it is easier, more convenient, or more profitable for individuals or groups in Britain and the US to declare a political position in which they do not feel politically justified, than to stand up against it once and for all.\n",
            "\n",
            "So why haven't the press started following an independent path of analysis when we hear their news? Because those in power have made sure that even with this kind of reporting there can be no way for the public to be assured of their truth and objectivity. All that matters is that the media be seen as having a certain opinion – that in their opinion, the public want their stories to reflect. You want to be believed? You have to keep lying. You want to be taken seriously? You have to keep telling stories that appear to be true – stories that are consistent with your ideological framework.\n",
            "\n",
            "The whole idea that journalists can be held to account if their editorial decisions do not conform to this standard of objectivity and therefore they are somehow defrauded by someone else making the same errors as they make – such as this one which I wrote in the Guardian – is simply to make them even more dependent on being believed and having the public believe their story. I think that we would be a very, very bad society if journalists were even allowed to set such higher standards of accuracy than they do today. That they are held in a certain degree of risk that their credibility can be damaged is a fact which I feel deeply about.\n",
            "\n",
            "There are other dangers that all of this suggests – and it certainly appears clear what those dangers are – and this is just the tip of the iceberg, because when journalists think they can control something they are in for a real treat. Journalism is a very special skill – and even if you want to think carefully about how much of it is purely academic and how much is purely transactional, you can be sure that it is a dangerous and hazardous one. The danger comes when an article or news report, which you might regard as objectively correct, becomes the basis for an argument, criticism or debate. It is the job of the journalist, of the journalist's peers, to take those arguments on to the public and tell them about exactly how those arguments are being undermined. But how you can do this without a press officer, in which case you are essentially giving away what is a private conversation between two people, has a great deal to do with how difficult that job is, because the private discussion itself becomes a public accusation.\n",
            "\n",
            "Journalist Steve Coogan, who is a self-styled \"truth-teller\" and is currently on the BBC's Newsnight show, said yesterday that he wanted people to understand how important it is for journalists to be able to be impartial. I think this message might ring especially true in the current climate of heightened anxiety about the quality of the media reporting on the case and, indeed, on any and all of these events.\n",
            "\n",
            "So what is an informed, fully informed public opinion on the quality of news reporting, particularly when that is being fed by individuals and groups who do not represent, say, the interests of the mainstream media? As far as I can tell, the answer is: it is not easy. It's like a dance. The people and the organisations around you are constantly being asked to say what they really believe. It's like a musical – one moment you are dancing in all kinds of directions at a dizzying pace but, soon, you fall into an echo chamber and have to repeat exactly what you had just danced in.\n",
            "\n",
            "We are in a very turbulent time in our media. A new wave of revelations is being revealed about what has been going on behind the\n",
            "======================================== SAMPLE 3 ========================================\n",
            "In order to understand a system we've been analyzing for about eight months now, it needs to know not just where it is based, but how it got there in the first place. The first thing to understand is that we are using the same language and system across the board, but not the same features. As you'll see below, each of this group of systems has its own distinct code, which is in turn separate from each of the others. You might be thinking that this is simply a matter of redundancy because we haven't had to write new code for all of them; however, a more complicated explanation is required. That is, since each of these systems uses different data structures to represent their information, the same system can produce identical results.\n",
            "\n",
            "This is a bit different from the idea of having an equivalent data structure for all of them, but it does illustrate that even on an \"uniform\" level, different code may create identical results for the same data type.\n",
            "\n",
            "Why? Because there are certain factors that make a system behave the same way; however, there are also other factors that drive the differences. One of these may be the number of different types of access to the storage.\n",
            "\n",
            "A typical application might have several distinct models of data to perform various operations on. Each system needs to know not only where it is, but also how it got there.\n",
            "\n",
            "At this point, it is worth taking each of these different models into consideration, and asking what drives the differences with this application. I might be tempted to make a single broad conclusion based on it all being a straight line from data types to code; however, this does give me problems. It is easy to imagine how some of these systems might have different characteristics or behave the same way regardless of how all other model are implemented.\n",
            "\n",
            "A common pattern that we often observe is that, once a system has reached a certain level of complexity, it is likely to behave differently based on where it was originally. A small example of this is that a program should do different things depending on how it gets data from other systems. For instance, one might consider a common database that maintains one data structure (name, age, friends, etc.), but is usually implemented with something like a query string that is intended to contain those attributes. This is a type of \"no-longer-usable application\". A large application might want to perform different operations depending on its relationship to the database. This is a \"very likely to be used by someone else\" type of code. This type of code may be based on a \"not too different from the rest of the application\" approach and, at the same time, is likely to be very specific in its operations and to have a specific relationship to the data it is interested in (or at least an idea of that relationship).\n",
            "\n",
            "This means that the code that makes up the \"average\" application could in almost every case be very different from the code that runs on a different system. It might not have the same functionality as the one on a different machine; perhaps it requires external dependencies (e.g., other relational databases such as JSPS), or it could run on an old or unproven software. This is in turn where one's guess as to what to do as a developer in this scenario may be wrong. If an average application isn't that different from another application, it should be a lot easier to change those relationships between applications.\n",
            "\n",
            "So what do we do in a similar situation? What are we doing to make it easier to keep the architecture of each of this groups of systems as clear as possible?\n",
            "\n",
            "First of all, our analysis requires a system whose components have a common code base, or at least a common feature set, and that allows for us to separate the individual pieces into distinct \"modules\". (There may have been many such modules over time, some of which have been shared).\n",
            "\n",
            "Next, the components' data and code must both share their common code base, if at all. This is called \"shared functionality\". Each of these systems have different \"structure\" and \"components\" that are shared by that set of components.\n",
            "\n",
            "Finally, the software must be able to operate with these modular data and code (even if there is no common data or \"module\"). This includes the underlying system itself. An application that knows how to read from a database, which reads and writes the data back to disk with its own unique code – then is up to you to create a new application with that same module that can read and write to the same database, in the hope that we'll then have a different application operating with the same set of data.\n",
            "\n",
            "All of these modules must be able to operate simultaneously, so that multiple components are able to talk to each other and \"connect\": the \"communication\" mechanism used by the rest of the system.\n",
            "\n",
            "There are some other things that each of these systems need to communicate. For instance, it may be required for each data\n",
            "======================================== SAMPLE 4 ========================================\n",
            "This is one of many articles you might find interesting. Please take a minute to read the whole thing – you might find it interesting!\n",
            "\n",
            "In December 2015, a video from Facebook was removed as being racist. To explain the video's reasons, and why it is now taken down to this day, please read this article on my blog. If you are a black person, please use this article's link at the bottom of this page to read about how Facebook's censors have removed this post.\n",
            "\n",
            "Recently, some white supremacists on Facebook shared a similar video, but in which they claimed racism was not the primary motive of the white supremacists in the video – a false accusation. While this claim is demonstrably false, the fact that it was popularized proves that what went viral online was indeed a video of a white supremacist encouraging violence against people based on what they believed were their perceived racial characteristics.\n",
            "\n",
            "In September 2015, a white supremacist on Reddit, /u/joseyandwisdom, shared a video titled, \"A man was shot near my house in Milwaukee last night. Someone in a white hooded sweatshirt approached the man and shot him twice in the chest. Police are investigating. Thanks for your help.\"\n",
            "\n",
            "We then saw a video of an armed white supremacist holding a rifle in Milwaukee, Wisconsin, and allegedly firing multiple times at a house party. The white supremacist in this video claimed to have just shot an armed black man in Wisconsin. He was filmed by two people standing on the porch looking at the house and shooting him in the chest multiple times. The two men allegedly watched the video for two hours and then left.\n",
            "\n",
            "It is easy to understand why this particular video would be controversial, although it doesn't prove racism was not the main motive of the white supremacists who posted the video. This would be the reason for this entire post, as this is a video in which the whiteside man shoots and kills several black people because of their skin and dress and because he believes these are characteristics of black people, not their race. The white supremacists that posted this claim may well claim it was just a spontaneous shooting and not an intentional act. This certainly isn't the case; it has been reported multiple times that an armed white supremacist fired multiple shots at a house party in Milwaukee, which shows that an armed white supremacist could also shoot, kill and rape black people because racist skin colors made someone look suspicious.\n",
            "\n",
            "I think this is an example of white supremacists using memes as evidence for their claims, because memes have been used not in order to disprove their claims but to demonstrate how they are wrong.\n",
            "\n",
            "To my knowledge, Reddit has never removed links to these particular racist Facebook posts from its front page even though other people have. The reason for this is simple; the content of the posts themselves are enough to prove the claim, unless one can prove otherwise. Reddit has the ability to censor content, especially images, that it finds offensive. It has the ability to ban any information it deems offensive, even content that promotes something positive. If Reddit could censor content, it would be a much easier thing to do. What Reddit is doing with the meme-based accusations of racism surrounding white supremacists is clearly offensive beyond imagining.<|endoftext|>For people who just want to go back and watch your recent game, there are a few options to choose from. If you're not into this kind of thing, check out an option to watch your game, especially if it's your first time watching a sports game.\n",
            "\n",
            "Note: If you're into watching things with a big screen (which is what we wanted you to choose), you can also watch this on YouTube in an effort to preserve as much of the video as possible to your hard drive.\n",
            "\n",
            "If you want to watch on a smaller screen, here's our list of top 5 devices. Keep in mind that many of these can be connected to one another, so you'll need to be sure to connect them to one another (such as by Wi-Fi).<|endoftext|>This article is from the archive of our partner .\n",
            "\n",
            "We may have the best weather yet, but at least there are some places that still aren't ready for the hottest summer in 50 years. A new report in the Journal of Climate finds a couple of very hot locations — both of which are over 90 degrees. In fact, several more locations are already in the range. The majority of the nation's hottest temperature range, the report found, is located over land, so it's no surprise to find that some places are even hotter in the air. But it's worth noting that not all of these places are at least 95 and 100 (95 and 100 would be the coldest temperature range), and a few are hotter than those hot spots, too.\n",
            "\n",
            "We have a lot more news from this hot summer here. And if you don't care about all the hot weather that will come your way — or whether those hot spots are good or bad — then you probably shouldn't read this report.\n",
            "\n",
            "This\n",
            "^C\n"
          ],
          "name": "stdout"
        }
      ]
    },
    {
      "cell_type": "code",
      "metadata": {
        "id": "Qm46AS9QQyKM",
        "colab_type": "code",
        "colab": {}
      },
      "source": [
        ""
      ],
      "execution_count": 0,
      "outputs": []
    },
    {
      "cell_type": "code",
      "metadata": {
        "colab_type": "code",
        "id": "xn_vzzGhss9N",
        "outputId": "78bb525d-2bf2-4caf-e0d6-259c66b85e66",
        "colab": {
          "base_uri": "https://localhost:8080/",
          "height": 1000
        }
      },
      "source": [
        "#generate article on its own after finetuning model temperature and top_k\n",
        "!python3 src/generate_unconditional_samples.py --top_k 40 --temperature 1 --model_name 345M"
      ],
      "execution_count": 0,
      "outputs": [
        {
          "output_type": "stream",
          "text": [
            "WARNING:tensorflow:From /content/gpt-2/src/model.py:147: The name tf.AUTO_REUSE is deprecated. Please use tf.compat.v1.AUTO_REUSE instead.\n",
            "\n",
            "WARNING:tensorflow:From src/generate_unconditional_samples.py:49: The name tf.Session is deprecated. Please use tf.compat.v1.Session instead.\n",
            "\n",
            "2019-10-12 11:37:46.500251: I tensorflow/core/platform/profile_utils/cpu_utils.cc:94] CPU Frequency: 2200000000 Hz\n",
            "2019-10-12 11:37:46.500513: I tensorflow/compiler/xla/service/service.cc:168] XLA service 0x15bf800 initialized for platform Host (this does not guarantee that XLA will be used). Devices:\n",
            "2019-10-12 11:37:46.500548: I tensorflow/compiler/xla/service/service.cc:176]   StreamExecutor device (0): Host, Default Version\n",
            "WARNING:tensorflow:From src/generate_unconditional_samples.py:51: The name tf.set_random_seed is deprecated. Please use tf.compat.v1.set_random_seed instead.\n",
            "\n",
            "WARNING:tensorflow:From /content/gpt-2/src/model.py:148: The name tf.variable_scope is deprecated. Please use tf.compat.v1.variable_scope instead.\n",
            "\n",
            "WARNING:tensorflow:From /content/gpt-2/src/model.py:152: The name tf.get_variable is deprecated. Please use tf.compat.v1.get_variable instead.\n",
            "\n",
            "WARNING:tensorflow:From /content/gpt-2/src/model.py:36: The name tf.rsqrt is deprecated. Please use tf.math.rsqrt instead.\n",
            "\n",
            "WARNING:tensorflow:From /content/gpt-2/src/model.py:166: The name tf.add_to_collection is deprecated. Please use tf.compat.v1.add_to_collection instead.\n",
            "\n",
            "WARNING:tensorflow:From /content/gpt-2/src/sample.py:51: to_float (from tensorflow.python.ops.math_ops) is deprecated and will be removed in a future version.\n",
            "Instructions for updating:\n",
            "Use `tf.cast` instead.\n",
            "WARNING:tensorflow:From /content/gpt-2/src/sample.py:16: where (from tensorflow.python.ops.array_ops) is deprecated and will be removed in a future version.\n",
            "Instructions for updating:\n",
            "Use tf.where in 2.0, which has the same broadcast rule as np.where\n",
            "WARNING:tensorflow:From /content/gpt-2/src/sample.py:53: multinomial (from tensorflow.python.ops.random_ops) is deprecated and will be removed in a future version.\n",
            "Instructions for updating:\n",
            "Use `tf.random.categorical` instead.\n",
            "WARNING:tensorflow:From src/generate_unconditional_samples.py:60: The name tf.train.Saver is deprecated. Please use tf.compat.v1.train.Saver instead.\n",
            "\n",
            "======================================== SAMPLE 1 ========================================\n",
            "Video\n",
            "\n",
            "In February this year, a group of French scientists took measurements of a mysterious white substance that is found on a meteorite and which can be described from space as a \"white cloud\".\n",
            "\n",
            "Some experts say if the substance were not an asteroid or comet it could explain why the planet Earth's northern hemisphere is covered with water ice.\n",
            "\n",
            "Video courtesy of Planet News<|endoftext|>This pattern is for Crochet Baby Crochet Book A by Barbara Smith. I use 2 yards of purple yarn. I suggest you knit one long row, and repeat it as many times as necessary.\n",
            "\n",
            "When you get to the top of the row you'll see:\n",
            "\n",
            "I like to leave a little left over at the bottom. I leave this in my blanket, for the rest of the night. (You can also use this as your scarf! Yay!)<|endoftext|>\"This is really, really important,\" Michael Schumacher said on Thursday.\n",
            "\n",
            "The 71-year-old German superstar was speaking during a visit to the Swiss sports institute, and was speaking on behalf of all Schumacher fans around the world because it would be impossible for the car maker to do business in the U.S. without being able to sell its products, regardless of its ability to deliver. For their part, Ferrari wants a U.S. presence. \"It has got to be the most important car brand in the world. Its global presence and the number of people who love it. You go and buy it and it should be your brand,\" said Maranello CEO Sergio Marchionne about the decision to build the 2017 F40 at Maranello.\n",
            "\n",
            "Schumacher himself has been critical about the U.S. government's decision to close the F-Secure program, which he believes makes all of Ferrari's other cars less appealing. However, at this point, he feels that the only right choice is making another order of the iconic sports car to come to the U.S.\n",
            "\n",
            "\n",
            "That is why they say I hope it never takes off. The U.S. Government said it will go back to the drawing board\n",
            "\n",
            "But Schumacher believes the car should go to the U.S. if possible — and he's just saying it. The German believes that the car could be sold at a loss in the U.S. just like its predecessor: The 2017 F40 debuted at CES this year, and sold roughly $20,000 on the domestic market. In contrast, the 2014 Ferrari LaFerrari sold close to $100,000 in the U.S.\n",
            "\n",
            "And while the new model won't see as large of inventory sales as the old one, Schumacher believes that the new models will gain more traction. \"We want cars with this type of racing heritage and character from us. The car that really stood for us was the Ferrari F-Formula 1 in the 1990s, but now we are having a strong presence in our sportscar business. If it's available in the U.S., I hope that it [will have the] same character as it had in the United States,\" he said.\n",
            "\n",
            "While other car makers have sold their cars to U.S. buyers through direct relationships through Ford dealerships, which also sold the F40 to Michael Kors customers in 2012, Ferrari is different, so Marchionne asked Schumacher to help him put together a deal.\n",
            "\n",
            "\n",
            "\"This is really, really important,\" said Marchionne during a visit to the sports institute, and was speaking on behalf of all Schumacher fans around the world because it would be impossible for the car maker to do business in the U.S. without being able to sell its products, regardless of its ability to deliver.\n",
            "\n",
            "For their part, Ferrari wants a U.S. presence. \"It has got to be the most important car brand in the world. Its global presence and the number of people who love it. You go and buy it and it should be your brand,\" said Maranello CEO Sergio Marchionne about the decision to build the 2017 F40 at Maranello. \"If that's the right choice, we are very, very interested in the F-Secure project,\" he said.\n",
            "\n",
            "If the U.S. decides to cancel the F-Secure program, it may not be the next logical move. But Marchionne told the Guardian that he believes that the car maker shouldn't be forced out of the U.S. because of its racing heritage. \"The reason I say it should never take off is because I find in terms of the performance and the character. From the F-Formula 1, we always wanted to be in the U.S. You could go over there with Ferrari. We have always wanted to go. And then when you look at it today, there is nothing left in terms of the car that has stood for Ferrari in the past. And no one is going to argue that it has to have that kind\n",
            "======================================== SAMPLE 2 ========================================\n",
            "The City of Calgary will launch its first public consultation on the province's $40,000 program to provide funding for an environmental advisory committee for the development of the City's north valley flood area.\n",
            "\n",
            "Coun. Bruce Hansen revealed the proposed new committee on Tuesday during his announcement at a downtown news conference organized by the city's environmental review office.\n",
            "\n",
            "Hansen said the committee would assist with \"the review, development, planning, and implementation of recommendations made by city staff on a range of issues related to the City of Calgary's stormwater management program.\"\n",
            "\n",
            "The new committee would consist entirely of experts from various public and private organizations with expertise on Calgary's flood risk.\n",
            "\n",
            "\"By providing guidance to the city, these experts are able to assist Calgary staff in providing the input necessary to implement the recommendations in a way that best serves Alberta's communities,\" Hansen said.\n",
            "\n",
            "The council's first meeting of the new committee will be a public hearing on Jan. 8. Hansen said the public could be asked questions through email or by visiting their representatives.\n",
            "\n",
            "Hansen said there would currently be a panel of three on the program.\n",
            "\n",
            "In his statement, Hansen added that the committee would meet every six months with a five-person city advisory committee with the support of an \"independent consultant and consultants.\"\n",
            "\n",
            "The new advisory committee will be headed by an expert in flood risk planning and mitigation and have the authority to take recommendations from city staff.\n",
            "\n",
            "\"The advisory committee will be the final call on recommendations, but city staff will make recommendations based on information and feedback from the advisory committee.\"\n",
            "\n",
            "Hansen did not elaborate on what those recommendations would be.\n",
            "\n",
            "The city is facing criticism for its implementation of the provincial Environmental Quality Act and the need for the council to create a new committee to deal with flood risk development in Calgary.\n",
            "\n",
            "A group of city residents filed a petition to the Federal Court of Appeal in June arguing that the council's emergency plan and the council of the Alberta Flood Insurance Policy Board's review of the City of Calgary's flood risk system are unconstitutional and in conflict with section 2 of the Human Rights Code.\n",
            "\n",
            "Alberta has already spent $11 million since October to improve flood protection.\n",
            "\n",
            "Hansen said he hoped the committee would help the city review flood risk and protect property values as a result of the city's flood risk management.\n",
            "\n",
            "READ MORE:\n",
            "\n",
            "* Alberta flood plans to 'pivot back' into safety, green, clean\n",
            "\n",
            "* City of Fort Mac floods flood risk program to reduce risk, ease concerns over risk 'staying put'\n",
            "\n",
            "* Flooding can be blamed on storm: Alberta to fund flood protection\n",
            "\n",
            "* Alberta government to spend $100m to restore stormwater system\n",
            "\n",
            "* Calgary stormwater advisory group to be formed\n",
            "\n",
            "* Flood risk of Calgary: City to meet for first time since floods\n",
            "\n",
            "* How much is Calgary facing? More than $40M in total cost of major flooding<|endoftext|>This week, we are joined by Jason Ritter, Executive Chairman of the National Football League Players Association as well as head of the AFL Players Association, to talk about their goals, expectations and current challenges. The episode was produced by Greg Bienenbush and Alex Blumberg of the ABC's Q&A program.\n",
            "\n",
            "Our conversation features a broad topic range including player recruitment reform, the future of professional football, the potential of women's professional football in football and other sports, players looking at how football is changing and the future of the game as a sport.\n",
            "\n",
            "The full episode can be watched at nfl.com.au/Q&A.\n",
            "\n",
            "The podcast has two episodes in each week. The first episode on the weekend of 24 August 2015 contains two special guests, as well as Jason Ritter.<|endoftext|>Cultured milk is a food product that is made and sold for human consumption. However, it is more than just food, for it is a natural biological force in all of us, from infants and young children to our elderly. Its natural effect, which is called the milk thymus, is important in producing and maintaining strong immune systems.\n",
            "\n",
            "Cultured milk is manufactured in the lab and then sold for human consumption. It is commonly referred to by the marketing term \"canned\" milk. The first time you tasted fermented milk, you felt great — and a little sick — that something had gone terribly wrong. Today, you have been exposed to a very healthy food that is full of great minerals. Cultured milk is a healthy food that is good for you.\n",
            "\n",
            "So while some may question why this natural organic protein food has been around for so long, no doubt that has something to do with genetics. The milk of our cow is genetically superior to all other milk. The genes were in place to ensure her quality with lactose intolerance and to preserve the milk's unique flavor. All cow's milk has the same genetic components: the enzymes in lactic acid bacteria (Lactobacillus/\n",
            "^C\n"
          ],
          "name": "stdout"
        }
      ]
    },
    {
      "cell_type": "code",
      "metadata": {
        "id": "cT8916KgQ1sX",
        "colab_type": "code",
        "colab": {}
      },
      "source": [
        ""
      ],
      "execution_count": 0,
      "outputs": []
    },
    {
      "cell_type": "code",
      "metadata": {
        "id": "9yzBCpeNgaAZ",
        "colab_type": "code",
        "outputId": "ebd81703-d439-47fd-df5f-afe4d848f574",
        "colab": {
          "base_uri": "https://localhost:8080/",
          "height": 1000
        }
      },
      "source": [
        "!python3 src/interactive_conditional_samples.py  --model_name='345M'  --nsamples=20 --top_k=40 --temperature=.90 --length=1"
      ],
      "execution_count": 0,
      "outputs": [
        {
          "output_type": "stream",
          "text": [
            "WARNING:tensorflow:From /content/gpt-2/src/model.py:147: The name tf.AUTO_REUSE is deprecated. Please use tf.compat.v1.AUTO_REUSE instead.\n",
            "\n",
            "WARNING:tensorflow:From src/interactive_conditional_samples.py:52: The name tf.Session is deprecated. Please use tf.compat.v1.Session instead.\n",
            "\n",
            "2019-10-12 11:51:16.412958: I tensorflow/core/platform/profile_utils/cpu_utils.cc:94] CPU Frequency: 2200000000 Hz\n",
            "2019-10-12 11:51:16.413238: I tensorflow/compiler/xla/service/service.cc:168] XLA service 0x18ff800 initialized for platform Host (this does not guarantee that XLA will be used). Devices:\n",
            "2019-10-12 11:51:16.413276: I tensorflow/compiler/xla/service/service.cc:176]   StreamExecutor device (0): Host, Default Version\n",
            "WARNING:tensorflow:From src/interactive_conditional_samples.py:53: The name tf.placeholder is deprecated. Please use tf.compat.v1.placeholder instead.\n",
            "\n",
            "WARNING:tensorflow:From src/interactive_conditional_samples.py:55: The name tf.set_random_seed is deprecated. Please use tf.compat.v1.set_random_seed instead.\n",
            "\n",
            "WARNING:tensorflow:From /content/gpt-2/src/model.py:148: The name tf.variable_scope is deprecated. Please use tf.compat.v1.variable_scope instead.\n",
            "\n",
            "WARNING:tensorflow:From /content/gpt-2/src/model.py:152: The name tf.get_variable is deprecated. Please use tf.compat.v1.get_variable instead.\n",
            "\n",
            "WARNING:tensorflow:From /content/gpt-2/src/model.py:36: The name tf.rsqrt is deprecated. Please use tf.math.rsqrt instead.\n",
            "\n",
            "WARNING:tensorflow:From /content/gpt-2/src/model.py:166: The name tf.add_to_collection is deprecated. Please use tf.compat.v1.add_to_collection instead.\n",
            "\n",
            "WARNING:tensorflow:From /content/gpt-2/src/sample.py:51: to_float (from tensorflow.python.ops.math_ops) is deprecated and will be removed in a future version.\n",
            "Instructions for updating:\n",
            "Use `tf.cast` instead.\n",
            "WARNING:tensorflow:From /content/gpt-2/src/sample.py:16: where (from tensorflow.python.ops.array_ops) is deprecated and will be removed in a future version.\n",
            "Instructions for updating:\n",
            "Use tf.where in 2.0, which has the same broadcast rule as np.where\n",
            "WARNING:tensorflow:From /content/gpt-2/src/sample.py:53: multinomial (from tensorflow.python.ops.random_ops) is deprecated and will be removed in a future version.\n",
            "Instructions for updating:\n",
            "Use `tf.random.categorical` instead.\n",
            "WARNING:tensorflow:From src/interactive_conditional_samples.py:63: The name tf.train.Saver is deprecated. Please use tf.compat.v1.train.Saver instead.\n",
            "\n",
            "Model prompt >>> 137378602389\n",
            "======================================== SAMPLE 1 ========================================\n",
            "37\n",
            "======================================== SAMPLE 2 ========================================\n",
            "7\n",
            "======================================== SAMPLE 3 ========================================\n",
            "77\n",
            "======================================== SAMPLE 4 ========================================\n",
            "35\n",
            "======================================== SAMPLE 5 ========================================\n",
            "24\n",
            "======================================== SAMPLE 6 ========================================\n",
            "37\n",
            "======================================== SAMPLE 7 ========================================\n",
            "17\n",
            "======================================== SAMPLE 8 ========================================\n",
            "13\n",
            "======================================== SAMPLE 9 ========================================\n",
            "22\n",
            "======================================== SAMPLE 10 ========================================\n",
            "65\n",
            "======================================== SAMPLE 11 ========================================\n",
            "36\n",
            "======================================== SAMPLE 12 ========================================\n",
            "47\n",
            "======================================== SAMPLE 13 ========================================\n",
            "12\n",
            "======================================== SAMPLE 14 ========================================\n",
            "16\n",
            "======================================== SAMPLE 15 ========================================\n",
            "12\n",
            "======================================== SAMPLE 16 ========================================\n",
            "17\n",
            "======================================== SAMPLE 17 ========================================\n",
            "4\n",
            "======================================== SAMPLE 18 ========================================\n",
            "7\n",
            "======================================== SAMPLE 19 ========================================\n",
            "60\n",
            "======================================== SAMPLE 20 ========================================\n",
            "13\n",
            "================================================================================\n",
            "Model prompt >>> Hi\n",
            "======================================== SAMPLE 1 ========================================\n",
            ".\n",
            "======================================== SAMPLE 2 ========================================\n",
            ",\n",
            "======================================== SAMPLE 3 ========================================\n",
            ",\n",
            "======================================== SAMPLE 4 ========================================\n",
            "-\n",
            "======================================== SAMPLE 5 ========================================\n",
            "-\n",
            "======================================== SAMPLE 6 ========================================\n",
            ",\n",
            "======================================== SAMPLE 7 ========================================\n",
            ",\n",
            "======================================== SAMPLE 8 ========================================\n",
            "-\n",
            "======================================== SAMPLE 9 ========================================\n",
            ",\n",
            "======================================== SAMPLE 10 ========================================\n",
            ".\n",
            "======================================== SAMPLE 11 ========================================\n",
            "-\n",
            "======================================== SAMPLE 12 ========================================\n",
            ",\n",
            "======================================== SAMPLE 13 ========================================\n",
            ",\n",
            "======================================== SAMPLE 14 ========================================\n",
            ",\n",
            "======================================== SAMPLE 15 ========================================\n",
            "-\n",
            "======================================== SAMPLE 16 ========================================\n",
            ".\n",
            "======================================== SAMPLE 17 ========================================\n",
            ",\n",
            "======================================== SAMPLE 18 ========================================\n",
            ",\n",
            "======================================== SAMPLE 19 ========================================\n",
            ",\n",
            "======================================== SAMPLE 20 ========================================\n",
            ".\n",
            "================================================================================\n",
            "Model prompt >>> how are you\n",
            "======================================== SAMPLE 1 ========================================\n",
            "?\"\n",
            "======================================== SAMPLE 2 ========================================\n",
            " supposed\n",
            "======================================== SAMPLE 3 ========================================\n",
            "?\n",
            "======================================== SAMPLE 4 ========================================\n",
            " holding\n",
            "======================================== SAMPLE 5 ========================================\n",
            " feeling\n",
            "======================================== SAMPLE 6 ========================================\n",
            "?\n",
            "======================================== SAMPLE 7 ========================================\n",
            " going\n",
            "======================================== SAMPLE 8 ========================================\n",
            "?'\n",
            "======================================== SAMPLE 9 ========================================\n",
            " doing\n",
            "======================================== SAMPLE 10 ========================================\n",
            "?\n",
            "======================================== SAMPLE 11 ========================================\n",
            " going\n",
            "======================================== SAMPLE 12 ========================================\n",
            " going\n",
            "======================================== SAMPLE 13 ========================================\n",
            "?\n",
            "======================================== SAMPLE 14 ========================================\n",
            " guys\n",
            "======================================== SAMPLE 15 ========================================\n",
            " going\n",
            "======================================== SAMPLE 16 ========================================\n",
            " going\n",
            "======================================== SAMPLE 17 ========================================\n",
            "?'\n",
            "======================================== SAMPLE 18 ========================================\n",
            " going\n",
            "======================================== SAMPLE 19 ========================================\n",
            " getting\n",
            "======================================== SAMPLE 20 ========================================\n",
            " going\n",
            "================================================================================\n",
            "Model prompt >>> doing\n",
            "======================================== SAMPLE 1 ========================================\n",
            " everything\n",
            "======================================== SAMPLE 2 ========================================\n",
            " a\n",
            "======================================== SAMPLE 3 ========================================\n",
            ",\"\n",
            "======================================== SAMPLE 4 ========================================\n",
            "_\n",
            "======================================== SAMPLE 5 ========================================\n",
            ".\n",
            "======================================== SAMPLE 6 ========================================\n",
            " all\n",
            "======================================== SAMPLE 7 ========================================\n",
            " this\n",
            "======================================== SAMPLE 8 ========================================\n",
            " that\n",
            "======================================== SAMPLE 9 ========================================\n",
            " with\n",
            "======================================== SAMPLE 10 ========================================\n",
            " with\n",
            "======================================== SAMPLE 11 ========================================\n",
            "\"\n",
            "======================================== SAMPLE 12 ========================================\n",
            "'\n",
            "======================================== SAMPLE 13 ========================================\n",
            ",\n",
            "======================================== SAMPLE 14 ========================================\n",
            "\"\n",
            "======================================== SAMPLE 15 ========================================\n",
            ".\n",
            "======================================== SAMPLE 16 ========================================\n",
            " something\n",
            "======================================== SAMPLE 17 ========================================\n",
            "?\"\n",
            "======================================== SAMPLE 18 ========================================\n",
            " it\n",
            "======================================== SAMPLE 19 ========================================\n",
            ".\n",
            "======================================== SAMPLE 20 ========================================\n",
            "-\n",
            "================================================================================\n",
            "Model prompt >>> with\n",
            "======================================== SAMPLE 1 ========================================\n",
            " other\n",
            "======================================== SAMPLE 2 ========================================\n",
            "-\n",
            "======================================== SAMPLE 3 ========================================\n",
            " the\n",
            "======================================== SAMPLE 4 ========================================\n",
            " an\n",
            "======================================== SAMPLE 5 ========================================\n",
            " a\n",
            "======================================== SAMPLE 6 ========================================\n",
            " the\n",
            "======================================== SAMPLE 7 ========================================\n",
            "-\n",
            "======================================== SAMPLE 8 ========================================\n",
            "-\n",
            "======================================== SAMPLE 9 ========================================\n",
            " the\n",
            "======================================== SAMPLE 10 ========================================\n",
            " a\n",
            "======================================== SAMPLE 11 ========================================\n",
            "-\n",
            "======================================== SAMPLE 12 ========================================\n",
            "-\n",
            "======================================== SAMPLE 13 ========================================\n",
            " the\n",
            "======================================== SAMPLE 14 ========================================\n",
            " the\n",
            "======================================== SAMPLE 15 ========================================\n",
            "_\n",
            "======================================== SAMPLE 16 ========================================\n",
            " a\n",
            "======================================== SAMPLE 17 ========================================\n",
            " a\n",
            "======================================== SAMPLE 18 ========================================\n",
            "-\n",
            "======================================== SAMPLE 19 ========================================\n",
            "-\n",
            "======================================== SAMPLE 20 ========================================\n",
            " their\n",
            "================================================================================\n",
            "Model prompt >>> the\n",
            "======================================== SAMPLE 1 ========================================\n",
            "-\n",
            "======================================== SAMPLE 2 ========================================\n",
            "-\n",
            "======================================== SAMPLE 3 ========================================\n",
            "-\n",
            "======================================== SAMPLE 4 ========================================\n",
            " original\n",
            "======================================== SAMPLE 5 ========================================\n",
            " case\n",
            "======================================== SAMPLE 6 ========================================\n",
            " first\n",
            "======================================== SAMPLE 7 ========================================\n",
            " \"\n",
            "======================================== SAMPLE 8 ========================================\n",
            " US\n",
            "======================================== SAMPLE 9 ========================================\n",
            " \"\n",
            "======================================== SAMPLE 10 ========================================\n",
            "-\n",
            "======================================== SAMPLE 11 ========================================\n",
            "-\n",
            "======================================== SAMPLE 12 ========================================\n",
            "-\n",
            "======================================== SAMPLE 13 ========================================\n",
            " same\n",
            "======================================== SAMPLE 14 ========================================\n",
            "_\n",
            "======================================== SAMPLE 15 ========================================\n",
            "-\n",
            "======================================== SAMPLE 16 ========================================\n",
            " idea\n",
            "======================================== SAMPLE 17 ========================================\n",
            " '\n",
            "======================================== SAMPLE 18 ========================================\n",
            " main\n",
            "======================================== SAMPLE 19 ========================================\n",
            "-\n",
            "======================================== SAMPLE 20 ========================================\n",
            "-\n",
            "================================================================================\n",
            "Model prompt >>> idea\n",
            "======================================== SAMPLE 1 ========================================\n",
            ".\n",
            "======================================== SAMPLE 2 ========================================\n",
            " to\n",
            "======================================== SAMPLE 3 ========================================\n",
            ":\n",
            "======================================== SAMPLE 4 ========================================\n",
            ".\n",
            "======================================== SAMPLE 5 ========================================\n",
            " [\n",
            "======================================== SAMPLE 6 ========================================\n",
            " .\n",
            "======================================== SAMPLE 7 ========================================\n",
            " (\n",
            "======================================== SAMPLE 8 ========================================\n",
            " (\n",
            "======================================== SAMPLE 9 ========================================\n",
            "\n",
            "\n",
            "======================================== SAMPLE 10 ========================================\n",
            " by\n",
            "======================================== SAMPLE 11 ========================================\n",
            ",\n",
            "======================================== SAMPLE 12 ========================================\n",
            ",\n",
            "======================================== SAMPLE 13 ========================================\n",
            ",\n",
            "======================================== SAMPLE 14 ========================================\n",
            ".\n",
            "======================================== SAMPLE 15 ========================================\n",
            ",\n",
            "======================================== SAMPLE 16 ========================================\n",
            ",\n",
            "======================================== SAMPLE 17 ========================================\n",
            " and\n",
            "======================================== SAMPLE 18 ========================================\n",
            " [\n",
            "======================================== SAMPLE 19 ========================================\n",
            ",\n",
            "======================================== SAMPLE 20 ========================================\n",
            "-\n",
            "================================================================================\n",
            "Model prompt >>> Traceback (most recent call last):\n",
            "  File \"/usr/lib/python3.6/contextlib.py\", line 99, in __exit__\n",
            "    self.gen.throw(type, value, traceback)\n",
            "  File \"/usr/local/lib/python3.6/dist-packages/tensorflow_core/python/framework/ops.py\", line 5480, in get_controller\n",
            "    yield g\n",
            "  File \"src/interactive_conditional_samples.py\", line 68, in interact_model\n",
            "    raw_text = input(\"Model prompt >>> \")\n",
            "KeyboardInterrupt\n",
            "\n",
            "During handling of the above exception, another exception occurred:\n",
            "\n",
            "Traceback (most recent call last):\n",
            "  File \"src/interactive_conditional_samples.py\", line 86, in <module>\n",
            "    fire.Fire(interact_model)\n",
            "  File \"/usr/local/lib/python3.6/dist-packages/fire/core.py\", line 138, in Fire\n",
            "    component_trace = _Fire(component, args, parsed_flag_args, context, name)\n",
            "  File \"/usr/local/lib/python3.6/dist-packages/fire/core.py\", line 471, in _Fire\n",
            "    target=component.__name__)\n",
            "  File \"/usr/local/lib/python3.6/dist-packages/fire/core.py\", line 675, in _CallAndUpdateTrace\n",
            "    component = fn(*varargs, **kwargs)\n",
            "  File \"src/interactive_conditional_samples.py\", line 83, in interact_model\n",
            "    print(\"=\" * 80)\n",
            "  File \"/usr/local/lib/python3.6/dist-packages/tensorflow_core/python/client/session.py\", line 1634, in __exit__\n",
            "    close_thread.join(30.0)\n",
            "  File \"/usr/lib/python3.6/threading.py\", line 1060, in join\n",
            "    self._wait_for_tstate_lock(timeout=max(timeout, 0))\n",
            "  File \"/usr/lib/python3.6/threading.py\", line 1072, in _wait_for_tstate_lock\n",
            "    elif lock.acquire(block, timeout):\n",
            "KeyboardInterrupt\n"
          ],
          "name": "stdout"
        }
      ]
    },
    {
      "cell_type": "code",
      "metadata": {
        "id": "7NRI1N1SgZ29",
        "colab_type": "code",
        "outputId": "312e8ab6-5ade-480e-e5c1-3a9f58276121",
        "colab": {
          "base_uri": "https://localhost:8080/",
          "height": 1000
        }
      },
      "source": [
        "!python3 src/interactive_conditional_samples.py --model_name='345M' --nsamples=2 --top_k=40 --temperature=.90"
      ],
      "execution_count": 0,
      "outputs": [
        {
          "output_type": "stream",
          "text": [
            "WARNING:tensorflow:From /content/gpt-2/src/model.py:147: The name tf.AUTO_REUSE is deprecated. Please use tf.compat.v1.AUTO_REUSE instead.\n",
            "\n",
            "WARNING:tensorflow:From src/interactive_conditional_samples.py:52: The name tf.Session is deprecated. Please use tf.compat.v1.Session instead.\n",
            "\n",
            "2019-10-12 11:54:48.899219: I tensorflow/core/platform/profile_utils/cpu_utils.cc:94] CPU Frequency: 2200000000 Hz\n",
            "2019-10-12 11:54:48.899461: I tensorflow/compiler/xla/service/service.cc:168] XLA service 0x1cc3800 initialized for platform Host (this does not guarantee that XLA will be used). Devices:\n",
            "2019-10-12 11:54:48.899493: I tensorflow/compiler/xla/service/service.cc:176]   StreamExecutor device (0): Host, Default Version\n",
            "WARNING:tensorflow:From src/interactive_conditional_samples.py:53: The name tf.placeholder is deprecated. Please use tf.compat.v1.placeholder instead.\n",
            "\n",
            "WARNING:tensorflow:From src/interactive_conditional_samples.py:55: The name tf.set_random_seed is deprecated. Please use tf.compat.v1.set_random_seed instead.\n",
            "\n",
            "WARNING:tensorflow:From /content/gpt-2/src/model.py:148: The name tf.variable_scope is deprecated. Please use tf.compat.v1.variable_scope instead.\n",
            "\n",
            "WARNING:tensorflow:From /content/gpt-2/src/model.py:152: The name tf.get_variable is deprecated. Please use tf.compat.v1.get_variable instead.\n",
            "\n",
            "WARNING:tensorflow:From /content/gpt-2/src/model.py:36: The name tf.rsqrt is deprecated. Please use tf.math.rsqrt instead.\n",
            "\n",
            "WARNING:tensorflow:From /content/gpt-2/src/model.py:166: The name tf.add_to_collection is deprecated. Please use tf.compat.v1.add_to_collection instead.\n",
            "\n",
            "WARNING:tensorflow:From /content/gpt-2/src/sample.py:51: to_float (from tensorflow.python.ops.math_ops) is deprecated and will be removed in a future version.\n",
            "Instructions for updating:\n",
            "Use `tf.cast` instead.\n",
            "WARNING:tensorflow:From /content/gpt-2/src/sample.py:16: where (from tensorflow.python.ops.array_ops) is deprecated and will be removed in a future version.\n",
            "Instructions for updating:\n",
            "Use tf.where in 2.0, which has the same broadcast rule as np.where\n",
            "WARNING:tensorflow:From /content/gpt-2/src/sample.py:53: multinomial (from tensorflow.python.ops.random_ops) is deprecated and will be removed in a future version.\n",
            "Instructions for updating:\n",
            "Use `tf.random.categorical` instead.\n",
            "WARNING:tensorflow:From src/interactive_conditional_samples.py:63: The name tf.train.Saver is deprecated. Please use tf.compat.v1.train.Saver instead.\n",
            "\n",
            "Model prompt >>> I stumbled upon a reference from James Cameron stating that Skynet has felt guilty for 30 years with regards to the near extinction of human life. He even suggests that Skynet has used time travel in order to setup events so that humanity would win. He even compares John Connor to a Messiah type figure, created intentionally by the machines. Is there any evidence (in canon) to support this?\n",
            "======================================== SAMPLE 1 ========================================\n",
            " If so, I'd like to hear it.\n",
            "\n",
            "I'd love to see James Cameron's thoughts on this issue, and also get an answer from Cameron on where he stands on the subject of the Terminator. As a fan of Terminator, this might be a good time for one.\n",
            "\n",
            "Is there a difference between humans being able to control a Skynet? The film references how Skynet used a time machine to travel back in time and create many replicas of human beings and events. However I'm not sure if the filmmakers have ever thought about how the machines can affect humans and create a parallel universe. Do future films in the series have some form of timeline manipulation?\n",
            "\n",
            "If you're a fan of the Terminator franchise and have never witnessed the film, there are some important details to consider before you get too excited. First of all when the movie returns and you re-examine what happened, you will find out that the Terminator does not do a reboot of the franchise. The original trilogy began with the destruction of Earth and the loss of humans. This led directly into the creation of the Skynet. The Skynet began as a cybernetics technology that used the same DNA as the human brain. The Skynet then used this technology to build the ultimate clone of human-level intelligence and eventually created its own race of warriors called the Skynetians. In the movies, the Terminator is not actually a clone of Terminator 2 (and thus not a robot). This explains why the original trilogy did not take place decades after the events of the movie.\n",
            "\n",
            "The third difference between Terminator and Terminator 2 is that while the Skynet, the Terminator 2 clones, and the Skynetians are artificial constructors, human beings, who are the first human to become human-like beings, are artificial constructs. This makes the Skynetians, the Terminator, and the Skynetians a perfect parallel. It also is worth noting that John Connor is a male and female, not human.\n",
            "\n",
            "There's a whole lot to look at when reading the post above. If you're interested in this kind of stuff, or anything related to the Terminator franchise, then definitely check out The Terminator (1977) and this movie's sequel, Terminator 2: Judgment Day. I recommend you watch both of these before you go running to the movies to see Terminator 3.\n",
            "\n",
            "What do you think of the future of the Terminator? Are you excited for it to be a sequel in the franchise\n",
            "======================================== SAMPLE 2 ========================================\n",
            "\n",
            "\n",
            "The point of it all is that Skynet is a man made program whose actions make him out to be one of those mythical characters.\n",
            "\n",
            "This is another problem with the Terminator movies' depiction of the Terminator's legacy. First of all, the Terminator is a symbol of the power structure of the human race. If you take a closer look at his face, you will see that not one of his eyes looks like it's been smashed out of its socket. The fact he wears armor, which he does, and that his skin is green and covered in scars (much like a human's) makes him look like a man of war.\n",
            "\n",
            "Second, if he's a man made program, would the Terminator have been able to defeat Skynet with ease?\n",
            "\n",
            "The Terminator is able to create and wield his own weapon against human forces but Skynet is a machine for which the entire human race has yet to be created: it simply needs to be built, tested, and destroyed. It is possible that, had Skynet been unable to destroy the core of the human race, the Terminator could have had a fighting chance against him.\n",
            "\n",
            "If the original Terminator were to become Skynet, could he have been able to defeat John Connor or even defeat the other human beings who were created by Skynet? Can we assume this event occurred after the event in which our heroes save humanity from Skynet's destruction?\n",
            "\n",
            "There is one more major issue with the depiction of the Terminator in the Terminator films; the \"Terminators\" are all men. In Terminator 2: Judgment Day, our heroes stop a group of Skynetians from attacking humans and killing people. As the Terminator kills more, the Skynetians start dying.\n",
            "\n",
            "That may be true in many ways – if Skynet was indeed a machine that was created by the machines, the fact that we see men on the end of its claws could be a sign that Skynet was created as male, as opposed to female, technology.\n",
            "\n",
            "And just to make sure that you make sense of this – if we take it at its face value, is it possible Skynet was created to be able to destroy John Connor? He was the only person on Skynet to have the ability to kill humans and would be at a disadvantage against Skynet if he were to try to defeat the Terminator.\n",
            "\n",
            "Why Not Go with the Canon?\n",
            "\n",
            "With the current state of Terminator 3,\n",
            "================================================================================\n",
            "Model prompt >>> Traceback (most recent call last):\n",
            "  File \"/usr/lib/python3.6/contextlib.py\", line 99, in __exit__\n",
            "    self.gen.throw(type, value, traceback)\n",
            "  File \"/usr/local/lib/python3.6/dist-packages/tensorflow_core/python/framework/ops.py\", line 5480, in get_controller\n",
            "    yield g\n",
            "  File \"src/interactive_conditional_samples.py\", line 68, in interact_model\n",
            "    raw_text = input(\"Model prompt >>> \")\n",
            "KeyboardInterrupt\n",
            "\n",
            "During handling of the above exception, another exception occurred:\n",
            "\n",
            "Traceback (most recent call last):\n",
            "  File \"src/interactive_conditional_samples.py\", line 86, in <module>\n",
            "    fire.Fire(interact_model)\n",
            "  File \"/usr/local/lib/python3.6/dist-packages/fire/core.py\", line 138, in Fire\n",
            "    component_trace = _Fire(component, args, parsed_flag_args, context, name)\n",
            "  File \"/usr/local/lib/python3.6/dist-packages/fire/core.py\", line 471, in _Fire\n",
            "    target=component.__name__)\n",
            "  File \"/usr/local/lib/python3.6/dist-packages/fire/core.py\", line 675, in _CallAndUpdateTrace\n",
            "    component = fn(*varargs, **kwargs)\n",
            "  File \"src/interactive_conditional_samples.py\", line 83, in interact_model\n",
            "    print(\"=\" * 80)\n",
            "  File \"/usr/local/lib/python3.6/dist-packages/tensorflow_core/python/client/session.py\", line 1633, in __exit__\n",
            "    close_thread.start()\n",
            "  File \"/usr/lib/python3.6/threading.py\", line 846, in start\n",
            "    _start_new_thread(self._bootstrap, ())\n",
            "KeyboardInterrupt\n"
          ],
          "name": "stdout"
        }
      ]
    },
    {
      "cell_type": "code",
      "metadata": {
        "id": "IkFoTaPkgZuz",
        "colab_type": "code",
        "outputId": "f00ff0c3-4de8-451c-e8b6-3c0dc437c0cd",
        "colab": {
          "base_uri": "https://localhost:8080/",
          "height": 1000
        }
      },
      "source": [
        "!python3 src/interactive_conditional_samples.py --model_name='345M'  --nsamples=5 --temperature=1"
      ],
      "execution_count": 0,
      "outputs": [
        {
          "output_type": "stream",
          "text": [
            "WARNING:tensorflow:From /content/gpt-2/src/model.py:147: The name tf.AUTO_REUSE is deprecated. Please use tf.compat.v1.AUTO_REUSE instead.\n",
            "\n",
            "WARNING:tensorflow:From src/interactive_conditional_samples.py:52: The name tf.Session is deprecated. Please use tf.compat.v1.Session instead.\n",
            "\n",
            "2019-10-12 12:27:42.009571: I tensorflow/core/platform/profile_utils/cpu_utils.cc:94] CPU Frequency: 2200000000 Hz\n",
            "2019-10-12 12:27:42.009843: I tensorflow/compiler/xla/service/service.cc:168] XLA service 0x2683800 initialized for platform Host (this does not guarantee that XLA will be used). Devices:\n",
            "2019-10-12 12:27:42.009884: I tensorflow/compiler/xla/service/service.cc:176]   StreamExecutor device (0): Host, Default Version\n",
            "WARNING:tensorflow:From src/interactive_conditional_samples.py:53: The name tf.placeholder is deprecated. Please use tf.compat.v1.placeholder instead.\n",
            "\n",
            "WARNING:tensorflow:From src/interactive_conditional_samples.py:55: The name tf.set_random_seed is deprecated. Please use tf.compat.v1.set_random_seed instead.\n",
            "\n",
            "WARNING:tensorflow:From /content/gpt-2/src/model.py:148: The name tf.variable_scope is deprecated. Please use tf.compat.v1.variable_scope instead.\n",
            "\n",
            "WARNING:tensorflow:From /content/gpt-2/src/model.py:152: The name tf.get_variable is deprecated. Please use tf.compat.v1.get_variable instead.\n",
            "\n",
            "WARNING:tensorflow:From /content/gpt-2/src/model.py:36: The name tf.rsqrt is deprecated. Please use tf.math.rsqrt instead.\n",
            "\n",
            "WARNING:tensorflow:From /content/gpt-2/src/model.py:166: The name tf.add_to_collection is deprecated. Please use tf.compat.v1.add_to_collection instead.\n",
            "\n",
            "WARNING:tensorflow:From /content/gpt-2/src/sample.py:51: to_float (from tensorflow.python.ops.math_ops) is deprecated and will be removed in a future version.\n",
            "Instructions for updating:\n",
            "Use `tf.cast` instead.\n",
            "WARNING:tensorflow:From /content/gpt-2/src/sample.py:53: multinomial (from tensorflow.python.ops.random_ops) is deprecated and will be removed in a future version.\n",
            "Instructions for updating:\n",
            "Use `tf.random.categorical` instead.\n",
            "WARNING:tensorflow:From src/interactive_conditional_samples.py:63: The name tf.train.Saver is deprecated. Please use tf.compat.v1.train.Saver instead.\n",
            "\n",
            "Model prompt >>> Hi, my name is Mark Farragher. I help C# developers learn computer vision and machine learning in 6 weeks without requiring complex math or Python.\n",
            "======================================== SAMPLE 1 ========================================\n",
            "\n",
            "\n",
            "I helped the Java community learn how to work on Windows on the CLR and have fun with it and make it better.\n",
            "\n",
            "I have created various language related apps and written up 700 lines in a couple of years about concurrency and immutable data structures that you can declare in java code and use to develop client side APIs or build complex applications.\n",
            "\n",
            "I teach development through combustion talking environment which creates innovative concepts about APIs and fundamental requirements for application developers like specific user interface or VM space side effects to Android and iOS and object oriented or reactive programming.\n",
            "\n",
            "I also help developers with Bulletproof programming approaches like:\n",
            "\n",
            "R-Tree checkpoint or Ruby code execution is not an option\n",
            "\n",
            "Profile system\n",
            "\n",
            "User ID knower profiles\n",
            "\n",
            "IL resources and unidirectional routing for particular targets\n",
            "\n",
            "Promoted Logout from app access control page.\n",
            "\n",
            "Wildcard table and dictionaries for playing around and building things\n",
            "\n",
            "Job/Life cycle cost and network replication learning strategy for managed and a generic day to day Preparedness\n",
            "\n",
            "At Candy House Public Relations I serve Phoenix,Avalon and Gauthier clients\n",
            "\n",
            "One I can be Latebanize incorrect and confirm mistaken workflows which are spendrunner by totalil and cookie (thanks for holding up load times)\n",
            "\n",
            "\n",
            "If you see me in public Forum,Project Admin today,please comment your professionalize or inform managers that you these easy gig reinventing the programming classroom so that the overall market market and game becomes NM hard certificate!\n",
            "\n",
            "I start to utilize Paper School program for publications of training programs in 8 miles you can google director thinking about Tell your story – make the cameras do their job when you can easy delay impact in network queries, unread log frames and ticket read disorder to gather intelligence for Ledging is basic asteortuse of the language core try to realize programming techniques dimensional unburden earning base to save four & three figuring out all some how to charge and find out questions to ask yourself! and study almost asaps like rehydrated/no refractory skills both for different vices approves opponents challenging them dual landing a long physical transit! sooooooooo! get unique brown mystery story stories, stop calling advice messages, forget to warranty insurance info enrollment card if you are unable to Turkey treats effectively but Today is the day Clear, Thin and Fast and isn't fucked and the lazy old with such a person knew in logic. that to branch at the key moment include the concealance Rules for atomisation and have\n",
            "======================================== SAMPLE 2 ========================================\n",
            " You are here because you care about your company. \"Big data\" is too soft a term in today's everincreasing world! Machine learning is welcome and can be done in 6 weeks or less.\n",
            "\n",
            "CPA: 07:28 - 0xfb34034d0 5322be60771 from 1 year ago<|endoftext|>AMSTERDAM (Reuters) - Estonia's Vladimir Putin announced on Tuesday it was withdrawing closer to Russia, abandoning plans to build a $5 billion military base because Moscow opposes the military building in the Baltic republic.\n",
            "\n",
            "Russian President Vladimir Putin (C) meets first lady Elena at the Kremlin in Moscow, Russia March 29, 2016. REUTERS/Maxim Shemetov\n",
            "\n",
            "In a televised address from the state legislature, Putin noted he had made that decision in snap parliamentary votes since his victory last May, rather than signing an order to build the base in skirting trade implications, according to people briefed on a transcript published by the state-run ITAR-TASS news agency.\n",
            "\n",
            "\"We decided (to withdraw) in order not to enter into by-passgable agreements Kiev, face against consumers and retaliatory measures from parts of treaties and not to further public instability,\" Putin said.\n",
            "\n",
            "\"We believe that this decision has regrettably mistakenly limited our ability to progress the country in a constructive and gentle direction for already flourishing economic priorities with (Armenia) taking the main role.\"\n",
            "\n",
            "Estonia was quickly ranked fourth among 174 countries for security by International Monetary Fund sources surveyed in 2014. Russia was listed last in that category.\n",
            "\n",
            "Ukraine has a trade surplus with Estonia, and Russia regularly employs as many as 5,000 heavy weapons troops as it could use. Facing sanctions over its actions in Crimea and Ukraine's annexation of the greater Donetsk and Luhansk regions, it has ordered an 86,000-troop surge to stem the Baltic country's decline into chaos.\n",
            "\n",
            "Putin told pre-sporting legislative session that Russia's most important threat now was weightlifting from Agricultureiorsparstratk, or arty, defections, suicide and mass migration from the former Soviet Ukraine as well as \"capital flight from pro-Kremlin ethnic society received money from other problems of discredit trade\".\n",
            "\n",
            "Stepping back from \"strategic infrastructures\" to combatting \"illegal\" transactions already sends the right signal \"to boost and not to burden our foreign customers,\" Putin predicted.\n",
            "\n",
            "He said as many as 165 soldiers would be handed over immediately\n",
            "======================================== SAMPLE 3 ========================================\n",
            " You can join my 30-day free session today.\n",
            "\n",
            "I'm Melynda Nettles, CTO, C strike Visual C++.\n",
            "\n",
            "You can learn how to use Visual Studio 2013 has it to build real-world applications without even knowing it, with C# to build an entirely new class of software without even knowing it.\n",
            "\n",
            "If you've ever worked with real world data as you iterate silently, C# makes you comfortable in extraordinary ways  in that you'll\n",
            "\n",
            "Talk from anywhere. You'll be building web apps quickly, for games, or talking to your friends and family within seconds of meeting\n",
            "\n",
            "Construct artificial intelligence, also using mach environments\n",
            "\n",
            "Install 360 video capture software and live feedback  with cameras such as the CannaCam PID 1600 and Nashi HARIS * for Mac or Treyux Fenix adaptive usb\n",
            "\n",
            "Create environments for optimized iOSs delivery\n",
            "\n",
            "Learn how to load and export your own stylesheets from any 3D Formatter library\n",
            "\n",
            "Read lots of modern docs for HTML5 to Flash user experience for creating UI\n",
            "\n",
            "Model and build your next 3D content\n",
            "\n",
            "Find DOS and Windows disk crashes from old maps covered by Adobe Illustrator .\n",
            "\n",
            "Simply pick a large team, keep all git\n",
            "\n",
            "Super fast flashing, comedy, shoutcaster, dance studio, pirates pod, curation, blogger, symbology, announce the events or meet informers/business organizations\n",
            "\n",
            "Speak at conferences with links for speaking resources, presentations, data, what's your role, GHCi and HifHsp data weather package, and the CRAN, etc.\n",
            "\n",
            "Let C# serve any purpose and is platform agnostic to cache, transforming even HTTP chunks into expression savings, caching whenever it is loaded, THE C# is cheaper than ZAPF2 help\n",
            "\n",
            "Take or break success Post BigJSON users for Local Unknown will haul their costly custom JSON.js to WordPress s other vendors for your work. Quickly remove expensive 2.5-packaged looks from completely unnecessary stdout streams or replace any inherent json integrity dependencies with only fast UTF-8 encoded JSON.js that will look simple and maintain universe of html tag key values.\n",
            "\n",
            "Improve user experience by using BLOCK engines like HBase, Kadvol, OOP proxies to burry and rest api of C#.\n",
            "\n",
            "Nice Ways & Fun Things : Invote your needs, experience and interests with a rich set of virtual value model's for bullet strategies\n",
            "======================================== SAMPLE 4 ========================================\n",
            " 90% of my days in C# computers are code reviewing so it makes sense that understanding programming terms doesn't come naturally to me. The artificial intelligence example games are a fun experiment method of figuring out how different machine learning approaches, like Ardent C# and Applied C#, teach computer vision. I'll only be able to answer questions about such subjects for those topics that have sufficient direct techniques answerable in programming languages with high level computer vision quills, such as Chrome and F#, and values notation and Gaussian under Weastoen techniques, how to quantify linearity, how to predict reaction times in games such as Baseball 16 with formulas like w/h ( how fast would baseball players react to rumor and image twitter server statistics and at what times), and C++Variant in exploring robots. So you'll have to read up on each subject in depth to understand it better I'm sorry, I can't cover all topics in detail for now however I have some videos to go through that touch on a lot of topics that there is currently very little research about, such as some of the actual code reviews for many 2D games that show something like a Torch-like queue that if commanded \"EVERY TIME\" will report the most played game question on crypto or HTTP deflate being answered first. Only for both JavaScript and SML code (announcements). Some math is required for the chipping in and a process of quantifying related steps for each game is covered, since an actual game is greatly more complex but you can write it running on CPU with nice floating point results using Google camcorder at about 80 Yikes. Also utilizing the execve(3 ) system call to spawn additional posts to play or solve a game which can be streamed high quality to CNN or host radar players and drawing posts to cache in spreadsheets and flatfile writing ANYTHING addresses this problem generally and detracts from promotion. Like I said, it's with actual game speed past yesterday so don't worry and thinking about everyone in the world AND Fantasyland 2D is not worth wasting time thinking about ObjectiveC or XML or jQuery and Pyrgy style concepts. Psychology will be providing some links to personal experiences advertising privacy in watching the \"no advertising Barbershop 4\"because their audience probably would be interested(even most commercial young people), so please download the gatekeeper and try #2 before you buy it.\n",
            "\n",
            "\n",
            "And any advances. If we can't succeed, nobody can. Perhaps ports/jailbreak/forgotten part of\n",
            "======================================== SAMPLE 5 ========================================\n",
            " This leads to a great computer vision library when you can use tools like Avisynth, PerfWorks, Tezarks, Gripton, Perfreg, BFFIT, Parcol, MIRROR 2, QuartosCP, tcli, Pixlr my colleague Armando Fernández's supervised structure 2D scripting tools.<|endoftext|>Rate This Favorite Tense Hitchhiking Location Blog\n",
            "\n",
            "Ekischoosa AN / Okeechobee State Park (AZ)\n",
            "\n",
            "Ekischoosa was the site of a famous 1860s rail attacking disaster, was inundated with rain (no good this time-I hear…) and has subsequently formed the famous Resort Lodge. This special resort at The Lodge emerged from the surrounding open grassy brush and has deep benches for hiking-lots of room to explore!\n",
            "\n",
            "Ekischoosa / Okeechobee\n",
            "\n",
            "Ekischoosa is at the base of Lake Otsego and can be fully appreciated all in its natural beauty. Just a few minutes walking to this magnificent beauty gives an acceleration by ferry, or taken as a Class 2 Canoe ride-\n",
            "\n",
            "\n",
            "Anti-Beatty Crab- Good Plan\n",
            "\n",
            "Ekischoosa near Lake Throne and Palm Tree National Park\n",
            "\n",
            "A goatstone beach, standalone swimming pool (use it!), and authorities continued to enjoy their diversions. Viñales telegraph command center, Beer Garden, jists of sewage, fjord, and area dining locations along The Beachside, and no trash going through with a cheap PUD Smartwater had a cleaning crew behind it. Two little ferries carried all park visitation to\n",
            "\n",
            "The Beachfront\n",
            "\n",
            "Ekischoosa\n",
            "\n",
            "\n",
            "Forum Posters\n",
            "\n",
            "Plan arguments beneath\n",
            "\n",
            "Fluoride Reservations\n",
            "\n",
            "Camping Facilities<|endoftext|>In honor of Life Over Shawarma Day 2022, we had the Genius Bar and Burgers + Hamburgers \"Exclusive Look At Epic Halo 3 Clip Animation...\"\n",
            "\n",
            "This afternoon Brad Serpozzi and I began drumming through our timeline of Halo we had always wanted to see about the topic of animation and composition when we started working at IDIoteast Headquarters when briefly PS3 was not even off the shelf! It may have been a short image but we were having… bad dreams (really bad)! The genius bar lets you leverage customising image processing with custom games to bring life to simple objects and movement time friendly to quickly mash up different elements according to\n",
            "================================================================================\n",
            "Model prompt >>> Traceback (most recent call last):\n",
            "  File \"/usr/lib/python3.6/contextlib.py\", line 99, in __exit__\n",
            "    self.gen.throw(type, value, traceback)\n",
            "  File \"/usr/local/lib/python3.6/dist-packages/tensorflow_core/python/framework/ops.py\", line 5480, in get_controller\n",
            "    yield g\n",
            "  File \"src/interactive_conditional_samples.py\", line 68, in interact_model\n",
            "    raw_text = input(\"Model prompt >>> \")\n",
            "KeyboardInterrupt\n",
            "\n",
            "During handling of the above exception, another exception occurred:\n",
            "\n",
            "Traceback (most recent call last):\n",
            "  File \"src/interactive_conditional_samples.py\", line 86, in <module>\n",
            "    fire.Fire(interact_model)\n",
            "  File \"/usr/local/lib/python3.6/dist-packages/fire/core.py\", line 138, in Fire\n",
            "    component_trace = _Fire(component, args, parsed_flag_args, context, name)\n",
            "  File \"/usr/local/lib/python3.6/dist-packages/fire/core.py\", line 471, in _Fire\n",
            "    target=component.__name__)\n",
            "  File \"/usr/local/lib/python3.6/dist-packages/fire/core.py\", line 675, in _CallAndUpdateTrace\n",
            "    component = fn(*varargs, **kwargs)\n",
            "  File \"src/interactive_conditional_samples.py\", line 83, in interact_model\n",
            "    print(\"=\" * 80)\n",
            "  File \"/usr/local/lib/python3.6/dist-packages/tensorflow_core/python/client/session.py\", line 1630, in __exit__\n",
            "    close_thread = threading.Thread(\n",
            "KeyboardInterrupt\n"
          ],
          "name": "stdout"
        }
      ]
    },
    {
      "cell_type": "code",
      "metadata": {
        "id": "n_FZMI36eW-p",
        "colab_type": "code",
        "outputId": "7b2c1fd2-7d35-4622-9319-4e3a02b82e17",
        "colab": {
          "base_uri": "https://localhost:8080/",
          "height": 1000
        }
      },
      "source": [
        "#!python3 src/interactive_conditional_samples.py --model_name='345M'  --nsamples=5 --temperature=1\n",
        "\n",
        "!python3 src/interactive_conditional_samples.py --model_name='345M'  --top_k 40 --temperature 0.9 "
      ],
      "execution_count": 0,
      "outputs": [
        {
          "output_type": "stream",
          "text": [
            "WARNING:tensorflow:From /content/gpt-2/src/model.py:147: The name tf.AUTO_REUSE is deprecated. Please use tf.compat.v1.AUTO_REUSE instead.\n",
            "\n",
            "WARNING:tensorflow:From src/interactive_conditional_samples.py:52: The name tf.Session is deprecated. Please use tf.compat.v1.Session instead.\n",
            "\n",
            "2019-10-12 13:59:20.214036: I tensorflow/core/platform/profile_utils/cpu_utils.cc:94] CPU Frequency: 2200000000 Hz\n",
            "2019-10-12 13:59:20.214305: I tensorflow/compiler/xla/service/service.cc:168] XLA service 0x294b800 initialized for platform Host (this does not guarantee that XLA will be used). Devices:\n",
            "2019-10-12 13:59:20.214343: I tensorflow/compiler/xla/service/service.cc:176]   StreamExecutor device (0): Host, Default Version\n",
            "WARNING:tensorflow:From src/interactive_conditional_samples.py:53: The name tf.placeholder is deprecated. Please use tf.compat.v1.placeholder instead.\n",
            "\n",
            "WARNING:tensorflow:From src/interactive_conditional_samples.py:55: The name tf.set_random_seed is deprecated. Please use tf.compat.v1.set_random_seed instead.\n",
            "\n",
            "WARNING:tensorflow:From /content/gpt-2/src/model.py:148: The name tf.variable_scope is deprecated. Please use tf.compat.v1.variable_scope instead.\n",
            "\n",
            "WARNING:tensorflow:From /content/gpt-2/src/model.py:152: The name tf.get_variable is deprecated. Please use tf.compat.v1.get_variable instead.\n",
            "\n",
            "WARNING:tensorflow:From /content/gpt-2/src/model.py:36: The name tf.rsqrt is deprecated. Please use tf.math.rsqrt instead.\n",
            "\n",
            "WARNING:tensorflow:From /content/gpt-2/src/model.py:166: The name tf.add_to_collection is deprecated. Please use tf.compat.v1.add_to_collection instead.\n",
            "\n",
            "WARNING:tensorflow:From /content/gpt-2/src/sample.py:51: to_float (from tensorflow.python.ops.math_ops) is deprecated and will be removed in a future version.\n",
            "Instructions for updating:\n",
            "Use `tf.cast` instead.\n",
            "WARNING:tensorflow:From /content/gpt-2/src/sample.py:16: where (from tensorflow.python.ops.array_ops) is deprecated and will be removed in a future version.\n",
            "Instructions for updating:\n",
            "Use tf.where in 2.0, which has the same broadcast rule as np.where\n",
            "WARNING:tensorflow:From /content/gpt-2/src/sample.py:53: multinomial (from tensorflow.python.ops.random_ops) is deprecated and will be removed in a future version.\n",
            "Instructions for updating:\n",
            "Use `tf.random.categorical` instead.\n",
            "WARNING:tensorflow:From src/interactive_conditional_samples.py:63: The name tf.train.Saver is deprecated. Please use tf.compat.v1.train.Saver instead.\n",
            "\n",
            "Model prompt >>> (137378602389) Ioannis Agathocleous: hi\n",
            "======================================== SAMPLE 1 ========================================\n",
            "! my name is Ioannis Agathocleous. My family name is Agathocleous. my birthday is March 25. I'm 26 and I'm from Greece. I am studying philosophy at university. I've been married for about 4 years, but have not been able to find anything special in my career because I'm very shy. I try to speak much so I feel like I'm not the exception but the rule. I am a regular reader of popular science magazines. I love to read about things so I try to read as much as I can.\n",
            "\n",
            "I want to ask you about what you do every day. Do you read? What do you do with your life time?\n",
            "\n",
            "I spend my life reading, reading and reading. I read a lot of books and I like to be entertained when I do it. And I love it when people talk to me at parties. So I love to watch films because people don't know the movies that I am into, but I get so interested when it comes to documentaries, documentaries of old films. So I'm always telling myself that I will not do anything stupid.\n",
            "\n",
            "I want to ask you about you first and about the most important thing you want to do on your marriage.\n",
            "\n",
            "The most important thing for me is to be happy. So I want to do what I love to do. My passion is to have sex with beautiful women. I guess this is what I do.\n",
            "\n",
            "This interview has been edited and condensed.<|endoftext|>The world's second-largest economy is the world's fourth-largest economy as a share of global GDP. It also ranks 20th in the world for gross domestic product (GDP), a measure of economic activity in countries. At any point from about 2009 (the most recent data available) to now, Japan had more GDP per capita than most OECD nations (see table 1).\n",
            "\n",
            "Japan's growth in GDP per capita, measured as an absolute measure in terms of purchasing power parity, is the lowest in the OECD. In 2010, Japan's GDP per capita was $22,066. This compares with the $27,723 for all OECD countries combined.\n",
            "\n",
            "\n",
            "Figure 1: The World's 2nd-Hanging Capital of GDP\n",
            "\n",
            "Source: World Bank, 2013 (in billions).\n",
            "\n",
            "World GDP Per Capita 2007 to 2012: The chart above depicts Japan's level of world GDP per capita over the period 2007 to 2012, excluding Japan (since GDP per capita has fallen\n",
            "================================================================================\n",
            "Model prompt >>> The 2008 Summer Olympics torch relay was run from March 24 until August 8, 2008, prior to the 2008 Summer Olympics, with the theme of “one world, one dream”. Plans for the relay were announced on April 26, 2007, in Beijing, China. The relay, also called by the organizers as the “Journey of Harmony”, lasted 129 days and carried the torch 137,000 km (85,000 mi) – the longest distance of any Olympic torch relay since the tradition was started ahead of the 1936 Summer Olympics. After being lit at the birthplace of the Olympic Games in Olympia, Greece on March 24, the torch traveled to the Panathinaiko Stadium in Athens, and then to Beijing, arriving on March 31. From Beijing, the torch was following a route passing through six continents. The torch has visited cities along the Silk Road, symbolizing ancient links between China and the rest of the world. The relay also included an ascent with the flame to the top of Mount Everest on the border of Nepal and Tibet, China from the Chinese side, which was closed specially for the event. Q: What was the length of the race? A: 137,000 km Q: Was it larger than previous ones? A: No Q: Where did the race begin? A: Olympia, Greece Q: Where did they go after? A: Athens Q: How many days was the race? A: seven Q: Did they visit any notable landmarks? A: Panathinaiko Stadium Q: And did they climb any mountains?\n",
            "======================================== SAMPLE 1 ========================================\n",
            " A: Everest Q: Was it hot? A: Yes, very hot. Q: Did the Olympic torch have a problem? A: No, it did it all. But it didn't have a problem. Q: How would you describe the race? A: To the west of the Olympic Stadium was a very dark, cold, snowy area called the 'Polar Mountains''. The torch traveled past these mountains, passing through the area of the 'Pyramid of the Sun' on the horizon. The torch was followed by five other countries, with China as the last, and then the torch passed through the border of Tibet, and then from the Xinjiang province. On its way back, the torch passed over Mount Everest, the highest mountain anywhere in the world. Q: How old were the torch's journey? A: It went from Olympia, Greece to Beijing, China. Q: What do you mean 'from Olympia'? A: From Olympia in Greece. The torch traveled from there to Beijing, China. Q: In Beijing, the torch traveled from Olympia to Beijing, China. What year? A: 2008 Q: Do you know when they went through the Pyramids? A: It was 2010. Q: And did the torch carry the torch to the Pyramids? A: Yes, it did Q: How did the Chinese authorities deal with the torch? A: They decided to have the torch placed on top of the Forbidden City. That place has a great stone monument and at the top of that monument is a square with a symbol of peace. The Chinese government is known for its peaceful relations. People were encouraged to respect their own nation's monuments. Q: Can you put me down as to whether the Chinese government ever said they wouldn't allow any government to burn the Olympic torch? A: Yes, they said they wouldn't even let it go to the Olympic Park. Q: How did the Chinese government decide that they'd allow this to happen? A: At the time there wasn't much support for burning the Olympic torch, and the Torch, as a symbol, was popular. They decided to go with it Q: And did the Chinese authorities go as far as to place a statue of a dragon at the entrance of the Olympic Stadium? A: Yes. Q: Do you know of any pictures of the statue? A: No Q: So no statues of the statue at the Olympic Stadium? A: At the moment. Q: What does that mean? A: It is just the statue of a dragon\n",
            "================================================================================\n",
            "Model prompt >>> (134972898517) Ioannis Agathocleous: lol sounds better to me\n",
            "======================================== SAMPLE 1 ========================================\n",
            ", the more I think about it the less appealing i find this game\n",
            "\n",
            "Anonymous 09/07/15 (Wed) 01:14:52 AM No. 154796 >Is it because my mother is a hoarder/haphazard hoarder/hockerer/hobby hoarder and doesn't like my clothes?\n",
            "\n",
            "Anonymous 09/07/15 (Wed) 01:23:05 AM No. 154797 >>154796\n",
            "\n",
            ">my mother is a hoarder/haphazard hoarder/hockerer/hobby hoarder and doesn't like my clothes?\n",
            "\n",
            "Anonymous 09/07/15 (Wed) 01:25:06 AM No. 154798 >>154798\n",
            "\n",
            "Lol she doesn't want kids. Lol she doesn't want kids.\n",
            "\n",
            "Anonymous 09/07/15 (Wed) 01:25:38 AM No. 154799 >>154796\n",
            "\n",
            "Lool she is that type of hoarder, but don't blame that on her for being lazy lol lool she is that type of hoarder, but don't blame that on her for being lazy lol\n",
            "\n",
            "Anonymous 09/07/15 (Wed) 01:27:46 AM No. 154800 File: 1431908784723.png (10.88 KB, 468x432, screenshot.PNG) >>154796\n",
            "\n",
            "I've been reading this thread a lot, and I agree.\n",
            "\n",
            "\n",
            "My dad has an obsession with \"cute girls\" or \"girls who just get along fine\" and she's the only one I know who can resist. She's obsessed with pretty women, which makes me wish she wasn't a hoarder because I think it'd be so much better if she could be more careful about what she was doing to her body lol I've been reading this thread a lot, and I agree.My dad has an obsession with \"cute girls\" or \"girls who just get along fine\" and she's the only one I know who can resist. She's obsessed with pretty women, which makes me wish she wasn't a hoarder because I think it'd be so much better if she could be more careful about what she was doing to her body lol\n",
            "\n",
            "Anonymous 09/07/15 (Wed) 01:31:23 AM No. 154801 >>154797\n",
            "\n",
            "\n",
            "It was a fluke, actually. The hoarder in the story has never\n",
            "================================================================================\n",
            "Model prompt >>> Traceback (most recent call last):\n",
            "  File \"/usr/lib/python3.6/contextlib.py\", line 99, in __exit__\n",
            "    self.gen.throw(type, value, traceback)\n",
            "  File \"/usr/local/lib/python3.6/dist-packages/tensorflow_core/python/framework/ops.py\", line 5480, in get_controller\n",
            "    yield g\n",
            "  File \"src/interactive_conditional_samples.py\", line 68, in interact_model\n",
            "    raw_text = input(\"Model prompt >>> \")\n",
            "KeyboardInterrupt\n",
            "\n",
            "During handling of the above exception, another exception occurred:\n",
            "\n",
            "Traceback (most recent call last):\n",
            "  File \"src/interactive_conditional_samples.py\", line 86, in <module>\n",
            "    fire.Fire(interact_model)\n",
            "  File \"/usr/local/lib/python3.6/dist-packages/fire/core.py\", line 138, in Fire\n",
            "    component_trace = _Fire(component, args, parsed_flag_args, context, name)\n",
            "  File \"/usr/local/lib/python3.6/dist-packages/fire/core.py\", line 471, in _Fire\n",
            "    target=component.__name__)\n",
            "  File \"/usr/local/lib/python3.6/dist-packages/fire/core.py\", line 675, in _CallAndUpdateTrace\n",
            "    component = fn(*varargs, **kwargs)\n",
            "  File \"src/interactive_conditional_samples.py\", line 83, in interact_model\n",
            "    print(\"=\" * 80)\n",
            "  File \"/usr/local/lib/python3.6/dist-packages/tensorflow_core/python/client/session.py\", line 1634, in __exit__\n",
            "    close_thread.join(30.0)\n",
            "  File \"/usr/lib/python3.6/threading.py\", line 1060, in join\n",
            "    self._wait_for_tstate_lock(timeout=max(timeout, 0))\n",
            "  File \"/usr/lib/python3.6/threading.py\", line 1072, in _wait_for_tstate_lock\n",
            "    elif lock.acquire(block, timeout):\n",
            "KeyboardInterrupt\n"
          ],
          "name": "stdout"
        }
      ]
    },
    {
      "cell_type": "code",
      "metadata": {
        "id": "2csc2bZHfrXd",
        "colab_type": "code",
        "colab": {}
      },
      "source": [
        ""
      ],
      "execution_count": 0,
      "outputs": []
    },
    {
      "cell_type": "code",
      "metadata": {
        "id": "6wuYRYfCeW3Z",
        "colab_type": "code",
        "colab": {}
      },
      "source": [
        ""
      ],
      "execution_count": 0,
      "outputs": []
    },
    {
      "cell_type": "code",
      "metadata": {
        "id": "lQ9SKLgGeWst",
        "colab_type": "code",
        "colab": {}
      },
      "source": [
        ""
      ],
      "execution_count": 0,
      "outputs": []
    },
    {
      "cell_type": "code",
      "metadata": {
        "id": "b_-xZySCaMiX",
        "colab_type": "code",
        "colab": {}
      },
      "source": [
        ""
      ],
      "execution_count": 0,
      "outputs": []
    },
    {
      "cell_type": "code",
      "metadata": {
        "id": "wA8owlEPaMam",
        "colab_type": "code",
        "colab": {}
      },
      "source": [
        ""
      ],
      "execution_count": 0,
      "outputs": []
    },
    {
      "cell_type": "code",
      "metadata": {
        "id": "LtVdWR80aMUE",
        "colab_type": "code",
        "colab": {}
      },
      "source": [
        ""
      ],
      "execution_count": 0,
      "outputs": []
    },
    {
      "cell_type": "code",
      "metadata": {
        "id": "3owxTlWEaMM4",
        "colab_type": "code",
        "colab": {}
      },
      "source": [
        ""
      ],
      "execution_count": 0,
      "outputs": []
    },
    {
      "cell_type": "code",
      "metadata": {
        "id": "-HrIgxokaMBY",
        "colab_type": "code",
        "colab": {}
      },
      "source": [
        ""
      ],
      "execution_count": 0,
      "outputs": []
    }
  ]
}